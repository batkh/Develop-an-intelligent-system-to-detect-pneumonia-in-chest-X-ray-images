{
  "metadata": {
    "kernelspec": {
      "display_name": "Python 3",
      "name": "python3"
    },
    "language_info": {
      "codemirror_mode": {
        "name": "ipython",
        "version": 3
      },
      "file_extension": ".py",
      "mimetype": "text/x-python",
      "name": "python",
      "nbconvert_exporter": "python",
      "pygments_lexer": "ipython3",
      "version": "3.10.10"
    },
    "papermill": {
      "default_parameters": {},
      "duration": 193.950279,
      "end_time": "2023-07-03T09:19:41.500639",
      "environment_variables": {},
      "exception": null,
      "input_path": "__notebook__.ipynb",
      "output_path": "__notebook__.ipynb",
      "parameters": {},
      "start_time": "2023-07-03T09:16:27.550360",
      "version": "2.4.0"
    },
    "colab": {
      "provenance": [],
      "gpuType": "T4"
    }
  },
  "nbformat_minor": 5,
  "nbformat": 4,
  "cells": [
    {
      "cell_type": "markdown",
      "source": [
        "To work with a large dataset in Google Colab, you can connect your Google Drive to the Colab environment. By doing so, you can upload your dataset to your Google Drive and access it directly from Colab without the need for manual uploading"
      ],
      "metadata": {
        "id": "VzK6T4TPN1yY"
      },
      "id": "VzK6T4TPN1yY"
    },
    {
      "cell_type": "code",
      "source": [
        "from sklearn.metrics import matthews_corrcoef, f1_score , precision_score\n"
      ],
      "metadata": {
        "id": "k9869GXkbeF3"
      },
      "id": "k9869GXkbeF3",
      "execution_count": null,
      "outputs": []
    },
    {
      "cell_type": "code",
      "source": [
        "from google.colab import drive\n",
        "drive.mount('/content/drive')"
      ],
      "metadata": {
        "id": "WehYGh7NwMvH",
        "colab": {
          "base_uri": "https://localhost:8080/",
          "height": 333
        },
        "outputId": "9520bb80-a789-405f-d41a-061563a771fa"
      },
      "id": "WehYGh7NwMvH",
      "execution_count": null,
      "outputs": [
        {
          "output_type": "error",
          "ename": "MessageError",
          "evalue": "ignored",
          "traceback": [
            "\u001b[0;31m---------------------------------------------------------------------------\u001b[0m",
            "\u001b[0;31mMessageError\u001b[0m                              Traceback (most recent call last)",
            "\u001b[0;32m<ipython-input-1-d5df0069828e>\u001b[0m in \u001b[0;36m<cell line: 2>\u001b[0;34m()\u001b[0m\n\u001b[1;32m      1\u001b[0m \u001b[0;32mfrom\u001b[0m \u001b[0mgoogle\u001b[0m\u001b[0;34m.\u001b[0m\u001b[0mcolab\u001b[0m \u001b[0;32mimport\u001b[0m \u001b[0mdrive\u001b[0m\u001b[0;34m\u001b[0m\u001b[0;34m\u001b[0m\u001b[0m\n\u001b[0;32m----> 2\u001b[0;31m \u001b[0mdrive\u001b[0m\u001b[0;34m.\u001b[0m\u001b[0mmount\u001b[0m\u001b[0;34m(\u001b[0m\u001b[0;34m'/content/drive'\u001b[0m\u001b[0;34m)\u001b[0m\u001b[0;34m\u001b[0m\u001b[0;34m\u001b[0m\u001b[0m\n\u001b[0m",
            "\u001b[0;32m/usr/local/lib/python3.10/dist-packages/google/colab/drive.py\u001b[0m in \u001b[0;36mmount\u001b[0;34m(mountpoint, force_remount, timeout_ms, readonly)\u001b[0m\n\u001b[1;32m    101\u001b[0m \u001b[0;32mdef\u001b[0m \u001b[0mmount\u001b[0m\u001b[0;34m(\u001b[0m\u001b[0mmountpoint\u001b[0m\u001b[0;34m,\u001b[0m \u001b[0mforce_remount\u001b[0m\u001b[0;34m=\u001b[0m\u001b[0;32mFalse\u001b[0m\u001b[0;34m,\u001b[0m \u001b[0mtimeout_ms\u001b[0m\u001b[0;34m=\u001b[0m\u001b[0;36m120000\u001b[0m\u001b[0;34m,\u001b[0m \u001b[0mreadonly\u001b[0m\u001b[0;34m=\u001b[0m\u001b[0;32mFalse\u001b[0m\u001b[0;34m)\u001b[0m\u001b[0;34m:\u001b[0m\u001b[0;34m\u001b[0m\u001b[0;34m\u001b[0m\u001b[0m\n\u001b[1;32m    102\u001b[0m   \u001b[0;34m\"\"\"Mount your Google Drive at the specified mountpoint path.\"\"\"\u001b[0m\u001b[0;34m\u001b[0m\u001b[0;34m\u001b[0m\u001b[0m\n\u001b[0;32m--> 103\u001b[0;31m   return _mount(\n\u001b[0m\u001b[1;32m    104\u001b[0m       \u001b[0mmountpoint\u001b[0m\u001b[0;34m,\u001b[0m\u001b[0;34m\u001b[0m\u001b[0;34m\u001b[0m\u001b[0m\n\u001b[1;32m    105\u001b[0m       \u001b[0mforce_remount\u001b[0m\u001b[0;34m=\u001b[0m\u001b[0mforce_remount\u001b[0m\u001b[0;34m,\u001b[0m\u001b[0;34m\u001b[0m\u001b[0;34m\u001b[0m\u001b[0m\n",
            "\u001b[0;32m/usr/local/lib/python3.10/dist-packages/google/colab/drive.py\u001b[0m in \u001b[0;36m_mount\u001b[0;34m(mountpoint, force_remount, timeout_ms, ephemeral, readonly)\u001b[0m\n\u001b[1;32m    130\u001b[0m   )\n\u001b[1;32m    131\u001b[0m   \u001b[0;32mif\u001b[0m \u001b[0mephemeral\u001b[0m\u001b[0;34m:\u001b[0m\u001b[0;34m\u001b[0m\u001b[0;34m\u001b[0m\u001b[0m\n\u001b[0;32m--> 132\u001b[0;31m     _message.blocking_request(\n\u001b[0m\u001b[1;32m    133\u001b[0m         \u001b[0;34m'request_auth'\u001b[0m\u001b[0;34m,\u001b[0m \u001b[0mrequest\u001b[0m\u001b[0;34m=\u001b[0m\u001b[0;34m{\u001b[0m\u001b[0;34m'authType'\u001b[0m\u001b[0;34m:\u001b[0m \u001b[0;34m'dfs_ephemeral'\u001b[0m\u001b[0;34m}\u001b[0m\u001b[0;34m,\u001b[0m \u001b[0mtimeout_sec\u001b[0m\u001b[0;34m=\u001b[0m\u001b[0;32mNone\u001b[0m\u001b[0;34m\u001b[0m\u001b[0;34m\u001b[0m\u001b[0m\n\u001b[1;32m    134\u001b[0m     )\n",
            "\u001b[0;32m/usr/local/lib/python3.10/dist-packages/google/colab/_message.py\u001b[0m in \u001b[0;36mblocking_request\u001b[0;34m(request_type, request, timeout_sec, parent)\u001b[0m\n\u001b[1;32m    174\u001b[0m       \u001b[0mrequest_type\u001b[0m\u001b[0;34m,\u001b[0m \u001b[0mrequest\u001b[0m\u001b[0;34m,\u001b[0m \u001b[0mparent\u001b[0m\u001b[0;34m=\u001b[0m\u001b[0mparent\u001b[0m\u001b[0;34m,\u001b[0m \u001b[0mexpect_reply\u001b[0m\u001b[0;34m=\u001b[0m\u001b[0;32mTrue\u001b[0m\u001b[0;34m\u001b[0m\u001b[0;34m\u001b[0m\u001b[0m\n\u001b[1;32m    175\u001b[0m   )\n\u001b[0;32m--> 176\u001b[0;31m   \u001b[0;32mreturn\u001b[0m \u001b[0mread_reply_from_input\u001b[0m\u001b[0;34m(\u001b[0m\u001b[0mrequest_id\u001b[0m\u001b[0;34m,\u001b[0m \u001b[0mtimeout_sec\u001b[0m\u001b[0;34m)\u001b[0m\u001b[0;34m\u001b[0m\u001b[0;34m\u001b[0m\u001b[0m\n\u001b[0m",
            "\u001b[0;32m/usr/local/lib/python3.10/dist-packages/google/colab/_message.py\u001b[0m in \u001b[0;36mread_reply_from_input\u001b[0;34m(message_id, timeout_sec)\u001b[0m\n\u001b[1;32m    101\u001b[0m     ):\n\u001b[1;32m    102\u001b[0m       \u001b[0;32mif\u001b[0m \u001b[0;34m'error'\u001b[0m \u001b[0;32min\u001b[0m \u001b[0mreply\u001b[0m\u001b[0;34m:\u001b[0m\u001b[0;34m\u001b[0m\u001b[0;34m\u001b[0m\u001b[0m\n\u001b[0;32m--> 103\u001b[0;31m         \u001b[0;32mraise\u001b[0m \u001b[0mMessageError\u001b[0m\u001b[0;34m(\u001b[0m\u001b[0mreply\u001b[0m\u001b[0;34m[\u001b[0m\u001b[0;34m'error'\u001b[0m\u001b[0;34m]\u001b[0m\u001b[0;34m)\u001b[0m\u001b[0;34m\u001b[0m\u001b[0;34m\u001b[0m\u001b[0m\n\u001b[0m\u001b[1;32m    104\u001b[0m       \u001b[0;32mreturn\u001b[0m \u001b[0mreply\u001b[0m\u001b[0;34m.\u001b[0m\u001b[0mget\u001b[0m\u001b[0;34m(\u001b[0m\u001b[0;34m'data'\u001b[0m\u001b[0;34m,\u001b[0m \u001b[0;32mNone\u001b[0m\u001b[0;34m)\u001b[0m\u001b[0;34m\u001b[0m\u001b[0;34m\u001b[0m\u001b[0m\n\u001b[1;32m    105\u001b[0m \u001b[0;34m\u001b[0m\u001b[0m\n",
            "\u001b[0;31mMessageError\u001b[0m: Error: credential propagation was unsuccessful"
          ]
        }
      ]
    },
    {
      "cell_type": "code",
      "source": [
        "# Cloud Storage\n",
        "from google.cloud import storage\n",
        "storage_client = storage.Client(project='YOUR PROJECT ID')\n"
      ],
      "metadata": {
        "execution": {
          "iopub.status.busy": "2023-07-08T22:27:07.442024Z",
          "iopub.execute_input": "2023-07-08T22:27:07.443145Z",
          "iopub.status.idle": "2023-07-08T22:27:07.451093Z",
          "shell.execute_reply.started": "2023-07-08T22:27:07.443092Z",
          "shell.execute_reply": "2023-07-08T22:27:07.447782Z"
        },
        "trusted": true,
        "id": "7IwivZtitCjc"
      },
      "execution_count": null,
      "outputs": [],
      "id": "7IwivZtitCjc"
    },
    {
      "cell_type": "code",
      "source": [
        "from tensorflow.keras.preprocessing.image import ImageDataGenerator\n",
        "\n",
        "# Define the paths to your dataset folders\n",
        "train_path = '/content/drive/MyDrive/data/chest_xray/train'\n",
        "valid_path = '/content/drive/MyDrive/data/chest_xray/val'\n",
        "test_path = '/content/drive/MyDrive/data/chest_xray/test'\n"
      ],
      "metadata": {
        "execution": {
          "iopub.status.busy": "2023-07-08T22:26:57.512989Z",
          "iopub.execute_input": "2023-07-08T22:26:57.513733Z",
          "iopub.status.idle": "2023-07-08T22:27:07.439167Z",
          "shell.execute_reply.started": "2023-07-08T22:26:57.513699Z",
          "shell.execute_reply": "2023-07-08T22:27:07.437882Z"
        },
        "trusted": true,
        "id": "sMt1vb40tCja"
      },
      "execution_count": null,
      "outputs": [],
      "id": "sMt1vb40tCja"
    },
    {
      "cell_type": "markdown",
      "source": [
        "# **Loading the data from the folder**"
      ],
      "metadata": {
        "id": "8l-6BddmO8hQ"
      },
      "id": "8l-6BddmO8hQ"
    },
    {
      "cell_type": "code",
      "source": [
        "from keras.preprocessing.image import ImageDataGenerator\n",
        "# Define the image dimensions and batch size\n",
        "image_size = (32, 32)\n",
        "batch_size = 32\n",
        "\n",
        "# Create the ImageDataGenerator and specify the preprocessing options\n",
        "datagen = ImageDataGenerator(rescale=1./255)\n",
        "\n",
        "# Load and preprocess the training dataset\n",
        "train_dataset = datagen.flow_from_directory(\n",
        "    train_path,\n",
        "    target_size=image_size,\n",
        "    batch_size=batch_size,\n",
        "    class_mode='binary',  # set to 'categorical' for multi-class classification\n",
        "    shuffle=True\n",
        ")\n",
        "\n",
        "# Load and preprocess the validation dataset\n",
        "val_dataset = datagen.flow_from_directory(\n",
        "    valid_path,\n",
        "    target_size=image_size,\n",
        "    batch_size=batch_size,\n",
        "    class_mode='binary',\n",
        "    shuffle=False\n",
        ")\n",
        "\n",
        "# Load and preprocess the test dataset\n",
        "test_dataset = datagen.flow_from_directory(\n",
        "    test_path,\n",
        "    target_size=image_size,\n",
        "    batch_size=batch_size,\n",
        "    class_mode='binary',\n",
        "    shuffle=False\n",
        ")\n"
      ],
      "metadata": {
        "execution": {
          "iopub.status.busy": "2023-07-08T22:27:07.453147Z",
          "iopub.execute_input": "2023-07-08T22:27:07.454276Z",
          "iopub.status.idle": "2023-07-08T22:27:12.199130Z",
          "shell.execute_reply.started": "2023-07-08T22:27:07.454242Z",
          "shell.execute_reply": "2023-07-08T22:27:12.197819Z"
        },
        "trusted": true,
        "id": "VDkm6VCYtCjd",
        "colab": {
          "base_uri": "https://localhost:8080/"
        },
        "outputId": "4c681c17-8859-4aff-9705-75f4a3f1bac9"
      },
      "execution_count": null,
      "outputs": [
        {
          "output_type": "stream",
          "name": "stdout",
          "text": [
            "Found 5217 images belonging to 2 classes.\n",
            "Found 16 images belonging to 2 classes.\n",
            "Found 624 images belonging to 2 classes.\n"
          ]
        }
      ],
      "id": "VDkm6VCYtCjd"
    },
    {
      "cell_type": "markdown",
      "source": [
        "split the labels and the data from dataset"
      ],
      "metadata": {
        "id": "K6mKW4QVPkVi"
      },
      "id": "K6mKW4QVPkVi"
    },
    {
      "cell_type": "code",
      "source": [
        "val_data, val_labels = val_dataset.next()"
      ],
      "metadata": {
        "execution": {
          "iopub.status.busy": "2023-07-08T22:27:13.909366Z",
          "iopub.execute_input": "2023-07-08T22:27:13.909688Z",
          "iopub.status.idle": "2023-07-08T22:27:14.171492Z",
          "shell.execute_reply.started": "2023-07-08T22:27:13.909660Z",
          "shell.execute_reply": "2023-07-08T22:27:14.170455Z"
        },
        "trusted": true,
        "id": "ECzetYNstCjg"
      },
      "execution_count": null,
      "outputs": [],
      "id": "ECzetYNstCjg"
    },
    {
      "cell_type": "code",
      "source": [
        "data, labels = train_dataset.next()"
      ],
      "metadata": {
        "id": "j6J3CPlNPWMx"
      },
      "id": "j6J3CPlNPWMx",
      "execution_count": null,
      "outputs": []
    },
    {
      "cell_type": "code",
      "source": [
        "test_data, test_labels = test_dataset.next()"
      ],
      "metadata": {
        "execution": {
          "iopub.status.busy": "2023-07-08T22:27:14.173032Z",
          "iopub.execute_input": "2023-07-08T22:27:14.173703Z",
          "iopub.status.idle": "2023-07-08T22:27:15.249229Z",
          "shell.execute_reply.started": "2023-07-08T22:27:14.173668Z",
          "shell.execute_reply": "2023-07-08T22:27:15.248173Z"
        },
        "trusted": true,
        "id": "Exq1ZIBttCjh"
      },
      "execution_count": null,
      "outputs": [],
      "id": "Exq1ZIBttCjh"
    },
    {
      "cell_type": "markdown",
      "source": [
        "Preprocessing step for the dataset including ( save the data and the labels in a numpy type and form a dataframe with columns of data and one column of labels then we drop the nan values from the dataframe and scaling the data) this step is not nessecary but it allows us to save the whole data in single file.cvs and it combike the whole datast with train and test and val and we can use this file to resplit the data into test and train and validation sets\n"
      ],
      "metadata": {
        "id": "z0rVpO4WQEnp"
      },
      "id": "z0rVpO4WQEnp"
    },
    {
      "cell_type": "code",
      "source": [
        "import numpy as np\n",
        "from sklearn.preprocessing import StandardScaler\n",
        "import pandas as pd\n",
        "def preprocessing(dataset):\n",
        "    # Initialize empty lists for data and labels\n",
        "    data_list = []\n",
        "    labels_list = []\n",
        "\n",
        "    # Iterate over the dataset and store the data and labels\n",
        "    for i in range(len(dataset)):\n",
        "        data, labels = dataset[i]\n",
        "        data_list.extend(data)\n",
        "        labels_list.extend(labels)\n",
        "\n",
        "    # Create a DataFrame\n",
        "    df = pd.DataFrame({\n",
        "        'data': data_list,\n",
        "        'labels': labels_list\n",
        "    })\n",
        "    df.dropna(inplace=True)\n",
        "    df_encoded = pd.get_dummies(df, columns=['labels'])\n",
        "\n",
        "\n",
        "    # Assuming 'df' is the DataFrame containing the image pixel values\n",
        "\n",
        "    data = np.array([np.array(item) for item in df_encoded['data']])\n",
        "\n",
        "    data = data.reshape(data.shape[0], -1)\n",
        "    #Feature Scaling:#Scaling the features can help improve the performance and convergence of certain machine learning algorithms. Common scaling\n",
        "    #techniques include min-max scaling and standardization.\n",
        "    scaler = StandardScaler()\n",
        "    scaled_data = scaler.fit_transform(data)\n",
        "    X = df['data']\n",
        "    y = df['labels']\n",
        "    # Assuming 'labels' is the array containing the corresponding labels for each image\n",
        "    df_scaled = pd.DataFrame(scaled_data)\n",
        "    df_scaled['labels'] = y\n",
        "    return df_scaled\n",
        "\n"
      ],
      "metadata": {
        "execution": {
          "iopub.status.busy": "2023-07-08T22:27:15.250623Z",
          "iopub.execute_input": "2023-07-08T22:27:15.252037Z",
          "iopub.status.idle": "2023-07-08T22:27:16.037543Z",
          "shell.execute_reply.started": "2023-07-08T22:27:15.251995Z",
          "shell.execute_reply": "2023-07-08T22:27:16.036431Z"
        },
        "trusted": true,
        "id": "_jSpU7petCjh"
      },
      "execution_count": null,
      "outputs": [],
      "id": "_jSpU7petCjh"
    },
    {
      "cell_type": "code",
      "source": [
        "df_val=preprocessing(val_dataset)\n"
      ],
      "metadata": {
        "id": "4w51CfZ_2snJ"
      },
      "id": "4w51CfZ_2snJ",
      "execution_count": null,
      "outputs": []
    },
    {
      "cell_type": "code",
      "source": [
        "df_test=preprocessing(test_dataset)"
      ],
      "metadata": {
        "id": "6tLrvlwX2uXl"
      },
      "id": "6tLrvlwX2uXl",
      "execution_count": null,
      "outputs": []
    },
    {
      "cell_type": "code",
      "source": [
        "\n",
        "df_train=preprocessing(train_dataset)\n"
      ],
      "metadata": {
        "execution": {
          "iopub.status.busy": "2023-07-08T22:27:16.039842Z",
          "iopub.execute_input": "2023-07-08T22:27:16.040344Z",
          "iopub.status.idle": "2023-07-08T22:29:15.364976Z",
          "shell.execute_reply.started": "2023-07-08T22:27:16.040302Z",
          "shell.execute_reply": "2023-07-08T22:29:15.363563Z"
        },
        "trusted": true,
        "id": "zj-9fIBJtCjj"
      },
      "execution_count": null,
      "outputs": [],
      "id": "zj-9fIBJtCjj"
    },
    {
      "cell_type": "markdown",
      "source": [
        "combining the whole data"
      ],
      "metadata": {
        "id": "UB2uWM2cRx8K"
      },
      "id": "UB2uWM2cRx8K"
    },
    {
      "cell_type": "code",
      "source": [
        "df = pd.concat([df_train, df_test, df_val], axis=0)\n",
        "#df = pd.concat([df_train, df_test], axis=0)\n",
        "\n",
        "# Reset the index of the combined DataFrame\n",
        "df.reset_index(drop=True, inplace=True)\n"
      ],
      "metadata": {
        "execution": {
          "iopub.status.busy": "2023-07-08T22:29:15.366593Z",
          "iopub.execute_input": "2023-07-08T22:29:15.366963Z",
          "iopub.status.idle": "2023-07-08T22:29:17.252203Z",
          "shell.execute_reply.started": "2023-07-08T22:29:15.366932Z",
          "shell.execute_reply": "2023-07-08T22:29:17.251157Z"
        },
        "trusted": true,
        "id": "Y8ayIFoWtCjk"
      },
      "execution_count": null,
      "outputs": [],
      "id": "Y8ayIFoWtCjk"
    },
    {
      "cell_type": "code",
      "source": [
        "df"
      ],
      "metadata": {
        "execution": {
          "iopub.status.busy": "2023-07-08T22:29:17.253505Z",
          "iopub.execute_input": "2023-07-08T22:29:17.254386Z",
          "iopub.status.idle": "2023-07-08T22:29:17.259802Z",
          "shell.execute_reply.started": "2023-07-08T22:29:17.254341Z",
          "shell.execute_reply": "2023-07-08T22:29:17.258652Z"
        },
        "trusted": true,
        "id": "RiFdmCMRtCjl",
        "colab": {
          "base_uri": "https://localhost:8080/",
          "height": 487
        },
        "outputId": "e5863c3e-eb88-4f41-d2dd-b6711925e9fc"
      },
      "execution_count": null,
      "outputs": [
        {
          "output_type": "execute_result",
          "data": {
            "text/plain": [
              "             0         1         2         3         4         5         6  \\\n",
              "0    -0.751945 -0.751945 -0.751945 -0.545257 -0.545257 -0.545257 -0.740742   \n",
              "1    -0.481194 -0.481194 -0.481194 -0.687742 -0.687742 -0.687742 -1.029019   \n",
              "2     1.916890  1.916890  1.916890  0.149353  0.149353  0.149353  2.988849   \n",
              "3    -0.887321 -0.887321 -0.887321 -0.295910 -0.295910 -0.295910  0.106073   \n",
              "4    -0.152424 -0.152424 -0.152424  0.042490  0.042490  0.042490  0.142108   \n",
              "...        ...       ...       ...       ...       ...       ...       ...   \n",
              "5852 -0.795248 -0.795248 -0.795248 -0.238150 -0.238150 -0.238150  0.427178   \n",
              "5853 -0.824634 -0.824634 -0.824634  0.415062  0.415062  0.415062  0.506838   \n",
              "5854 -0.971562 -0.971562 -0.971562 -1.299620 -1.299620 -1.299620 -0.767725   \n",
              "5855  0.556490  0.556490  0.556490  0.224542  0.224542  0.224542  2.848846   \n",
              "5856 -0.971562 -0.971562 -0.971562 -1.054666 -1.054666 -1.054666 -0.783657   \n",
              "\n",
              "             7         8         9  ...      3063      3064      3065  \\\n",
              "0    -0.740742 -0.740742 -0.684311  ... -0.662444 -0.662444 -0.662444   \n",
              "1    -1.029019 -1.029019 -0.832139  ... -0.244134 -0.244134 -0.244134   \n",
              "2     2.988849  2.988849 -0.409773  ... -0.871599 -0.871599 -0.871599   \n",
              "3     0.106073  0.106073  1.089627  ... -1.133043 -1.133043 -1.133043   \n",
              "4     0.142108  0.142108  1.385284  ... -0.854170 -0.854170 -0.854170   \n",
              "...        ...       ...       ...  ...       ...       ...       ...   \n",
              "5852  0.427178  0.427178  0.540515  ...  0.893925  0.893925  0.893925   \n",
              "5853  0.506838  0.506838  0.726345  ... -0.558237 -0.558237 -0.558237   \n",
              "5854 -0.767725 -0.767725 -0.946125  ... -0.518452 -0.518452 -0.518452   \n",
              "5855  2.848846  2.848846  2.455993  ... -0.717378 -0.717378 -0.717378   \n",
              "5856 -0.783657 -0.783657 -0.460108  ... -0.717378 -0.717378 -0.717378   \n",
              "\n",
              "          3066      3067      3068      3069      3070      3071  labels  \n",
              "0    -0.084343 -0.084343 -0.084343  0.182877  0.182877  0.182877     1.0  \n",
              "1     0.199591  0.199591  0.199591  0.115883  0.115883  0.115883     1.0  \n",
              "2    -0.327714 -0.327714 -0.327714  1.053806  1.053806  1.053806     1.0  \n",
              "3    -0.692771 -0.692771 -0.692771 -0.509400 -0.509400 -0.509400     0.0  \n",
              "4    -0.307433 -0.307433 -0.307433  0.205209  0.205209  0.205209     1.0  \n",
              "...        ...       ...       ...       ...       ...       ...     ...  \n",
              "5852 -0.560454 -0.560454 -0.560454 -0.399004 -0.399004 -0.399004     1.0  \n",
              "5853 -0.511983 -0.511983 -0.511983 -0.399004 -0.399004 -0.399004     1.0  \n",
              "5854  2.153962  2.153962  2.153962  3.109359  3.109359  3.109359     1.0  \n",
              "5855 -0.511983 -0.511983 -0.511983 -0.399004 -0.399004 -0.399004     1.0  \n",
              "5856 -0.560454 -0.560454 -0.560454 -0.514033 -0.514033 -0.514033     1.0  \n",
              "\n",
              "[5857 rows x 3073 columns]"
            ],
            "text/html": [
              "\n",
              "  <div id=\"df-adb508b8-dc4f-4978-848d-e37b50e8205d\">\n",
              "    <div class=\"colab-df-container\">\n",
              "      <div>\n",
              "<style scoped>\n",
              "    .dataframe tbody tr th:only-of-type {\n",
              "        vertical-align: middle;\n",
              "    }\n",
              "\n",
              "    .dataframe tbody tr th {\n",
              "        vertical-align: top;\n",
              "    }\n",
              "\n",
              "    .dataframe thead th {\n",
              "        text-align: right;\n",
              "    }\n",
              "</style>\n",
              "<table border=\"1\" class=\"dataframe\">\n",
              "  <thead>\n",
              "    <tr style=\"text-align: right;\">\n",
              "      <th></th>\n",
              "      <th>0</th>\n",
              "      <th>1</th>\n",
              "      <th>2</th>\n",
              "      <th>3</th>\n",
              "      <th>4</th>\n",
              "      <th>5</th>\n",
              "      <th>6</th>\n",
              "      <th>7</th>\n",
              "      <th>8</th>\n",
              "      <th>9</th>\n",
              "      <th>...</th>\n",
              "      <th>3063</th>\n",
              "      <th>3064</th>\n",
              "      <th>3065</th>\n",
              "      <th>3066</th>\n",
              "      <th>3067</th>\n",
              "      <th>3068</th>\n",
              "      <th>3069</th>\n",
              "      <th>3070</th>\n",
              "      <th>3071</th>\n",
              "      <th>labels</th>\n",
              "    </tr>\n",
              "  </thead>\n",
              "  <tbody>\n",
              "    <tr>\n",
              "      <th>0</th>\n",
              "      <td>-0.751945</td>\n",
              "      <td>-0.751945</td>\n",
              "      <td>-0.751945</td>\n",
              "      <td>-0.545257</td>\n",
              "      <td>-0.545257</td>\n",
              "      <td>-0.545257</td>\n",
              "      <td>-0.740742</td>\n",
              "      <td>-0.740742</td>\n",
              "      <td>-0.740742</td>\n",
              "      <td>-0.684311</td>\n",
              "      <td>...</td>\n",
              "      <td>-0.662444</td>\n",
              "      <td>-0.662444</td>\n",
              "      <td>-0.662444</td>\n",
              "      <td>-0.084343</td>\n",
              "      <td>-0.084343</td>\n",
              "      <td>-0.084343</td>\n",
              "      <td>0.182877</td>\n",
              "      <td>0.182877</td>\n",
              "      <td>0.182877</td>\n",
              "      <td>1.0</td>\n",
              "    </tr>\n",
              "    <tr>\n",
              "      <th>1</th>\n",
              "      <td>-0.481194</td>\n",
              "      <td>-0.481194</td>\n",
              "      <td>-0.481194</td>\n",
              "      <td>-0.687742</td>\n",
              "      <td>-0.687742</td>\n",
              "      <td>-0.687742</td>\n",
              "      <td>-1.029019</td>\n",
              "      <td>-1.029019</td>\n",
              "      <td>-1.029019</td>\n",
              "      <td>-0.832139</td>\n",
              "      <td>...</td>\n",
              "      <td>-0.244134</td>\n",
              "      <td>-0.244134</td>\n",
              "      <td>-0.244134</td>\n",
              "      <td>0.199591</td>\n",
              "      <td>0.199591</td>\n",
              "      <td>0.199591</td>\n",
              "      <td>0.115883</td>\n",
              "      <td>0.115883</td>\n",
              "      <td>0.115883</td>\n",
              "      <td>1.0</td>\n",
              "    </tr>\n",
              "    <tr>\n",
              "      <th>2</th>\n",
              "      <td>1.916890</td>\n",
              "      <td>1.916890</td>\n",
              "      <td>1.916890</td>\n",
              "      <td>0.149353</td>\n",
              "      <td>0.149353</td>\n",
              "      <td>0.149353</td>\n",
              "      <td>2.988849</td>\n",
              "      <td>2.988849</td>\n",
              "      <td>2.988849</td>\n",
              "      <td>-0.409773</td>\n",
              "      <td>...</td>\n",
              "      <td>-0.871599</td>\n",
              "      <td>-0.871599</td>\n",
              "      <td>-0.871599</td>\n",
              "      <td>-0.327714</td>\n",
              "      <td>-0.327714</td>\n",
              "      <td>-0.327714</td>\n",
              "      <td>1.053806</td>\n",
              "      <td>1.053806</td>\n",
              "      <td>1.053806</td>\n",
              "      <td>1.0</td>\n",
              "    </tr>\n",
              "    <tr>\n",
              "      <th>3</th>\n",
              "      <td>-0.887321</td>\n",
              "      <td>-0.887321</td>\n",
              "      <td>-0.887321</td>\n",
              "      <td>-0.295910</td>\n",
              "      <td>-0.295910</td>\n",
              "      <td>-0.295910</td>\n",
              "      <td>0.106073</td>\n",
              "      <td>0.106073</td>\n",
              "      <td>0.106073</td>\n",
              "      <td>1.089627</td>\n",
              "      <td>...</td>\n",
              "      <td>-1.133043</td>\n",
              "      <td>-1.133043</td>\n",
              "      <td>-1.133043</td>\n",
              "      <td>-0.692771</td>\n",
              "      <td>-0.692771</td>\n",
              "      <td>-0.692771</td>\n",
              "      <td>-0.509400</td>\n",
              "      <td>-0.509400</td>\n",
              "      <td>-0.509400</td>\n",
              "      <td>0.0</td>\n",
              "    </tr>\n",
              "    <tr>\n",
              "      <th>4</th>\n",
              "      <td>-0.152424</td>\n",
              "      <td>-0.152424</td>\n",
              "      <td>-0.152424</td>\n",
              "      <td>0.042490</td>\n",
              "      <td>0.042490</td>\n",
              "      <td>0.042490</td>\n",
              "      <td>0.142108</td>\n",
              "      <td>0.142108</td>\n",
              "      <td>0.142108</td>\n",
              "      <td>1.385284</td>\n",
              "      <td>...</td>\n",
              "      <td>-0.854170</td>\n",
              "      <td>-0.854170</td>\n",
              "      <td>-0.854170</td>\n",
              "      <td>-0.307433</td>\n",
              "      <td>-0.307433</td>\n",
              "      <td>-0.307433</td>\n",
              "      <td>0.205209</td>\n",
              "      <td>0.205209</td>\n",
              "      <td>0.205209</td>\n",
              "      <td>1.0</td>\n",
              "    </tr>\n",
              "    <tr>\n",
              "      <th>...</th>\n",
              "      <td>...</td>\n",
              "      <td>...</td>\n",
              "      <td>...</td>\n",
              "      <td>...</td>\n",
              "      <td>...</td>\n",
              "      <td>...</td>\n",
              "      <td>...</td>\n",
              "      <td>...</td>\n",
              "      <td>...</td>\n",
              "      <td>...</td>\n",
              "      <td>...</td>\n",
              "      <td>...</td>\n",
              "      <td>...</td>\n",
              "      <td>...</td>\n",
              "      <td>...</td>\n",
              "      <td>...</td>\n",
              "      <td>...</td>\n",
              "      <td>...</td>\n",
              "      <td>...</td>\n",
              "      <td>...</td>\n",
              "      <td>...</td>\n",
              "    </tr>\n",
              "    <tr>\n",
              "      <th>5852</th>\n",
              "      <td>-0.795248</td>\n",
              "      <td>-0.795248</td>\n",
              "      <td>-0.795248</td>\n",
              "      <td>-0.238150</td>\n",
              "      <td>-0.238150</td>\n",
              "      <td>-0.238150</td>\n",
              "      <td>0.427178</td>\n",
              "      <td>0.427178</td>\n",
              "      <td>0.427178</td>\n",
              "      <td>0.540515</td>\n",
              "      <td>...</td>\n",
              "      <td>0.893925</td>\n",
              "      <td>0.893925</td>\n",
              "      <td>0.893925</td>\n",
              "      <td>-0.560454</td>\n",
              "      <td>-0.560454</td>\n",
              "      <td>-0.560454</td>\n",
              "      <td>-0.399004</td>\n",
              "      <td>-0.399004</td>\n",
              "      <td>-0.399004</td>\n",
              "      <td>1.0</td>\n",
              "    </tr>\n",
              "    <tr>\n",
              "      <th>5853</th>\n",
              "      <td>-0.824634</td>\n",
              "      <td>-0.824634</td>\n",
              "      <td>-0.824634</td>\n",
              "      <td>0.415062</td>\n",
              "      <td>0.415062</td>\n",
              "      <td>0.415062</td>\n",
              "      <td>0.506838</td>\n",
              "      <td>0.506838</td>\n",
              "      <td>0.506838</td>\n",
              "      <td>0.726345</td>\n",
              "      <td>...</td>\n",
              "      <td>-0.558237</td>\n",
              "      <td>-0.558237</td>\n",
              "      <td>-0.558237</td>\n",
              "      <td>-0.511983</td>\n",
              "      <td>-0.511983</td>\n",
              "      <td>-0.511983</td>\n",
              "      <td>-0.399004</td>\n",
              "      <td>-0.399004</td>\n",
              "      <td>-0.399004</td>\n",
              "      <td>1.0</td>\n",
              "    </tr>\n",
              "    <tr>\n",
              "      <th>5854</th>\n",
              "      <td>-0.971562</td>\n",
              "      <td>-0.971562</td>\n",
              "      <td>-0.971562</td>\n",
              "      <td>-1.299620</td>\n",
              "      <td>-1.299620</td>\n",
              "      <td>-1.299620</td>\n",
              "      <td>-0.767725</td>\n",
              "      <td>-0.767725</td>\n",
              "      <td>-0.767725</td>\n",
              "      <td>-0.946125</td>\n",
              "      <td>...</td>\n",
              "      <td>-0.518452</td>\n",
              "      <td>-0.518452</td>\n",
              "      <td>-0.518452</td>\n",
              "      <td>2.153962</td>\n",
              "      <td>2.153962</td>\n",
              "      <td>2.153962</td>\n",
              "      <td>3.109359</td>\n",
              "      <td>3.109359</td>\n",
              "      <td>3.109359</td>\n",
              "      <td>1.0</td>\n",
              "    </tr>\n",
              "    <tr>\n",
              "      <th>5855</th>\n",
              "      <td>0.556490</td>\n",
              "      <td>0.556490</td>\n",
              "      <td>0.556490</td>\n",
              "      <td>0.224542</td>\n",
              "      <td>0.224542</td>\n",
              "      <td>0.224542</td>\n",
              "      <td>2.848846</td>\n",
              "      <td>2.848846</td>\n",
              "      <td>2.848846</td>\n",
              "      <td>2.455993</td>\n",
              "      <td>...</td>\n",
              "      <td>-0.717378</td>\n",
              "      <td>-0.717378</td>\n",
              "      <td>-0.717378</td>\n",
              "      <td>-0.511983</td>\n",
              "      <td>-0.511983</td>\n",
              "      <td>-0.511983</td>\n",
              "      <td>-0.399004</td>\n",
              "      <td>-0.399004</td>\n",
              "      <td>-0.399004</td>\n",
              "      <td>1.0</td>\n",
              "    </tr>\n",
              "    <tr>\n",
              "      <th>5856</th>\n",
              "      <td>-0.971562</td>\n",
              "      <td>-0.971562</td>\n",
              "      <td>-0.971562</td>\n",
              "      <td>-1.054666</td>\n",
              "      <td>-1.054666</td>\n",
              "      <td>-1.054666</td>\n",
              "      <td>-0.783657</td>\n",
              "      <td>-0.783657</td>\n",
              "      <td>-0.783657</td>\n",
              "      <td>-0.460108</td>\n",
              "      <td>...</td>\n",
              "      <td>-0.717378</td>\n",
              "      <td>-0.717378</td>\n",
              "      <td>-0.717378</td>\n",
              "      <td>-0.560454</td>\n",
              "      <td>-0.560454</td>\n",
              "      <td>-0.560454</td>\n",
              "      <td>-0.514033</td>\n",
              "      <td>-0.514033</td>\n",
              "      <td>-0.514033</td>\n",
              "      <td>1.0</td>\n",
              "    </tr>\n",
              "  </tbody>\n",
              "</table>\n",
              "<p>5857 rows × 3073 columns</p>\n",
              "</div>\n",
              "      <button class=\"colab-df-convert\" onclick=\"convertToInteractive('df-adb508b8-dc4f-4978-848d-e37b50e8205d')\"\n",
              "              title=\"Convert this dataframe to an interactive table.\"\n",
              "              style=\"display:none;\">\n",
              "        \n",
              "  <svg xmlns=\"http://www.w3.org/2000/svg\" height=\"24px\"viewBox=\"0 0 24 24\"\n",
              "       width=\"24px\">\n",
              "    <path d=\"M0 0h24v24H0V0z\" fill=\"none\"/>\n",
              "    <path d=\"M18.56 5.44l.94 2.06.94-2.06 2.06-.94-2.06-.94-.94-2.06-.94 2.06-2.06.94zm-11 1L8.5 8.5l.94-2.06 2.06-.94-2.06-.94L8.5 2.5l-.94 2.06-2.06.94zm10 10l.94 2.06.94-2.06 2.06-.94-2.06-.94-.94-2.06-.94 2.06-2.06.94z\"/><path d=\"M17.41 7.96l-1.37-1.37c-.4-.4-.92-.59-1.43-.59-.52 0-1.04.2-1.43.59L10.3 9.45l-7.72 7.72c-.78.78-.78 2.05 0 2.83L4 21.41c.39.39.9.59 1.41.59.51 0 1.02-.2 1.41-.59l7.78-7.78 2.81-2.81c.8-.78.8-2.07 0-2.86zM5.41 20L4 18.59l7.72-7.72 1.47 1.35L5.41 20z\"/>\n",
              "  </svg>\n",
              "      </button>\n",
              "      \n",
              "  <style>\n",
              "    .colab-df-container {\n",
              "      display:flex;\n",
              "      flex-wrap:wrap;\n",
              "      gap: 12px;\n",
              "    }\n",
              "\n",
              "    .colab-df-convert {\n",
              "      background-color: #E8F0FE;\n",
              "      border: none;\n",
              "      border-radius: 50%;\n",
              "      cursor: pointer;\n",
              "      display: none;\n",
              "      fill: #1967D2;\n",
              "      height: 32px;\n",
              "      padding: 0 0 0 0;\n",
              "      width: 32px;\n",
              "    }\n",
              "\n",
              "    .colab-df-convert:hover {\n",
              "      background-color: #E2EBFA;\n",
              "      box-shadow: 0px 1px 2px rgba(60, 64, 67, 0.3), 0px 1px 3px 1px rgba(60, 64, 67, 0.15);\n",
              "      fill: #174EA6;\n",
              "    }\n",
              "\n",
              "    [theme=dark] .colab-df-convert {\n",
              "      background-color: #3B4455;\n",
              "      fill: #D2E3FC;\n",
              "    }\n",
              "\n",
              "    [theme=dark] .colab-df-convert:hover {\n",
              "      background-color: #434B5C;\n",
              "      box-shadow: 0px 1px 3px 1px rgba(0, 0, 0, 0.15);\n",
              "      filter: drop-shadow(0px 1px 2px rgba(0, 0, 0, 0.3));\n",
              "      fill: #FFFFFF;\n",
              "    }\n",
              "  </style>\n",
              "\n",
              "      <script>\n",
              "        const buttonEl =\n",
              "          document.querySelector('#df-adb508b8-dc4f-4978-848d-e37b50e8205d button.colab-df-convert');\n",
              "        buttonEl.style.display =\n",
              "          google.colab.kernel.accessAllowed ? 'block' : 'none';\n",
              "\n",
              "        async function convertToInteractive(key) {\n",
              "          const element = document.querySelector('#df-adb508b8-dc4f-4978-848d-e37b50e8205d');\n",
              "          const dataTable =\n",
              "            await google.colab.kernel.invokeFunction('convertToInteractive',\n",
              "                                                     [key], {});\n",
              "          if (!dataTable) return;\n",
              "\n",
              "          const docLinkHtml = 'Like what you see? Visit the ' +\n",
              "            '<a target=\"_blank\" href=https://colab.research.google.com/notebooks/data_table.ipynb>data table notebook</a>'\n",
              "            + ' to learn more about interactive tables.';\n",
              "          element.innerHTML = '';\n",
              "          dataTable['output_type'] = 'display_data';\n",
              "          await google.colab.output.renderOutput(dataTable, element);\n",
              "          const docLink = document.createElement('div');\n",
              "          docLink.innerHTML = docLinkHtml;\n",
              "          element.appendChild(docLink);\n",
              "        }\n",
              "      </script>\n",
              "    </div>\n",
              "  </div>\n",
              "  "
            ]
          },
          "metadata": {},
          "execution_count": 13
        }
      ],
      "id": "RiFdmCMRtCjl"
    },
    {
      "cell_type": "markdown",
      "source": [
        "saving the data in a file"
      ],
      "metadata": {
        "id": "GJP2hjP-R9cN"
      },
      "id": "GJP2hjP-R9cN"
    },
    {
      "cell_type": "code",
      "source": [
        "import pandas as pd\n",
        "\n",
        "# Assuming you have a DataFrame called 'output' containing the desired output\n",
        "df.to_csv('df.csv', index=False)\n"
      ],
      "metadata": {
        "id": "BjZOH464WTEE"
      },
      "id": "BjZOH464WTEE",
      "execution_count": null,
      "outputs": []
    },
    {
      "cell_type": "markdown",
      "source": [
        "visualizing the structure of the data and check for the imbalance\n"
      ],
      "metadata": {
        "id": "iB6DCs8WSJUQ"
      },
      "id": "iB6DCs8WSJUQ"
    },
    {
      "cell_type": "code",
      "source": [
        "import pandas as pd\n",
        "import matplotlib.pyplot as plt\n",
        "\n",
        "# Assume you have a DataFrame called 'df' with a column 'labels' representing the class labels\n",
        "\n",
        "# Calculate class counts\n",
        "class_counts = df['labels'].value_counts()\n",
        "\n",
        "# Create a bar plot\n",
        "plt.figure(figsize=(8, 6))\n",
        "class_counts.plot(kind='bar')\n",
        "plt.xlabel('Class')\n",
        "plt.ylabel('Count')\n",
        "plt.title('Class Distribution')\n",
        "plt.show()\n",
        "print(\"Normal=0 , pneumonia=1 \")\n"
      ],
      "metadata": {
        "execution": {
          "iopub.status.busy": "2023-07-08T22:29:58.500585Z",
          "iopub.execute_input": "2023-07-08T22:29:58.501098Z",
          "iopub.status.idle": "2023-07-08T22:29:58.840767Z",
          "shell.execute_reply.started": "2023-07-08T22:29:58.501058Z",
          "shell.execute_reply": "2023-07-08T22:29:58.839321Z"
        },
        "trusted": true,
        "id": "VcOeZcfItCjl",
        "colab": {
          "base_uri": "https://localhost:8080/",
          "height": 590
        },
        "outputId": "540a3c36-d663-4e09-d00a-681f8e6eb85a"
      },
      "execution_count": null,
      "outputs": [
        {
          "output_type": "display_data",
          "data": {
            "text/plain": [
              "<Figure size 800x600 with 1 Axes>"
            ],
            "image/png": "[encoded data removed]"
          },
          "metadata": {}
        },
        {
          "output_type": "stream",
          "name": "stdout",
          "text": [
            "Normal=0 , pneumonia=1 \n"
          ]
        }
      ],
      "id": "VcOeZcfItCjl"
    },
    {
      "cell_type": "markdown",
      "source": [
        "from the chart above we notice that the data is not balanced"
      ],
      "metadata": {
        "id": "lTpjQr_XSkFs"
      },
      "id": "lTpjQr_XSkFs"
    },
    {
      "cell_type": "markdown",
      "source": [
        "Fixing the imbalance by using RandomOverSampler()\n"
      ],
      "metadata": {
        "id": "n5qdPuOU6StR"
      },
      "id": "n5qdPuOU6StR"
    },
    {
      "cell_type": "code",
      "source": [
        "from imblearn.over_sampling import RandomOverSampler\n",
        "\n",
        "# Assuming df is the DataFrame containing the dataset\n",
        "\n",
        "# Separate the features (X) and labels (y)\n",
        "X = df.iloc[:, :-1]\n",
        "y = df.iloc[:, -1]\n",
        "\n",
        "# Create an instance of the RandomOverSampler\n",
        "oversampler = RandomOverSampler()\n",
        "\n",
        "# Apply oversampling\n",
        "X_resampled, y_resampled = oversampler.fit_resample(X, y)\n",
        "\n"
      ],
      "metadata": {
        "execution": {
          "iopub.status.busy": "2023-07-08T22:31:00.280823Z",
          "iopub.execute_input": "2023-07-08T22:31:00.281322Z",
          "iopub.status.idle": "2023-07-08T22:32:12.991334Z",
          "shell.execute_reply.started": "2023-07-08T22:31:00.281288Z",
          "shell.execute_reply": "2023-07-08T22:32:12.977460Z"
        },
        "trusted": true,
        "id": "KPF5HtzYtCjm"
      },
      "execution_count": null,
      "outputs": [],
      "id": "KPF5HtzYtCjm"
    },
    {
      "cell_type": "code",
      "source": [
        "#X_resampled"
      ],
      "metadata": {
        "execution": {
          "iopub.status.busy": "2023-07-08T22:29:17.282982Z",
          "iopub.status.idle": "2023-07-08T22:29:17.283460Z",
          "shell.execute_reply.started": "2023-07-08T22:29:17.283267Z",
          "shell.execute_reply": "2023-07-08T22:29:17.283287Z"
        },
        "trusted": true,
        "id": "wynjutQMtCjm"
      },
      "execution_count": null,
      "outputs": [],
      "id": "wynjutQMtCjm"
    },
    {
      "cell_type": "code",
      "source": [
        "# Create the new DataFrame 'df_fixed'\n",
        "df_fixed = pd.DataFrame(X_resampled, columns=X.columns)\n",
        "df_fixed['label'] = y_resampled\n",
        "\n"
      ],
      "metadata": {
        "execution": {
          "iopub.status.busy": "2023-07-08T22:32:31.880431Z",
          "iopub.execute_input": "2023-07-08T22:32:31.881358Z",
          "iopub.status.idle": "2023-07-08T22:32:32.135686Z",
          "shell.execute_reply.started": "2023-07-08T22:32:31.881315Z",
          "shell.execute_reply": "2023-07-08T22:32:32.134232Z"
        },
        "trusted": true,
        "id": "APm77flqtCjn",
        "colab": {
          "base_uri": "https://localhost:8080/"
        },
        "outputId": "0325fd6c-7b53-4402-8868-7abe417bf73b"
      },
      "execution_count": null,
      "outputs": [
        {
          "output_type": "stream",
          "name": "stderr",
          "text": [
            "<ipython-input-18-b6e0d0246693>:3: PerformanceWarning: DataFrame is highly fragmented.  This is usually the result of calling `frame.insert` many times, which has poor performance.  Consider joining all columns at once using pd.concat(axis=1) instead. To get a de-fragmented frame, use `newframe = frame.copy()`\n",
            "  df_fixed['label'] = y_resampled\n"
          ]
        }
      ],
      "id": "APm77flqtCjn"
    },
    {
      "cell_type": "code",
      "source": [
        "#df_fixed"
      ],
      "metadata": {
        "execution": {
          "iopub.status.busy": "2023-07-08T22:29:17.286014Z",
          "iopub.status.idle": "2023-07-08T22:29:17.286417Z",
          "shell.execute_reply.started": "2023-07-08T22:29:17.286230Z",
          "shell.execute_reply": "2023-07-08T22:29:17.286249Z"
        },
        "trusted": true,
        "id": "7GlmE0TktCjn"
      },
      "execution_count": null,
      "outputs": [],
      "id": "7GlmE0TktCjn"
    },
    {
      "cell_type": "markdown",
      "source": [
        "visualizing the impact of using the  RandomOverSampler() and the dataset become balanced"
      ],
      "metadata": {
        "id": "3Yd1SzN66jvu"
      },
      "id": "3Yd1SzN66jvu"
    },
    {
      "cell_type": "code",
      "source": [
        "import pandas as pd\n",
        "import matplotlib.pyplot as plt\n",
        "import numpy as np\n",
        "\n",
        "# Calculate class counts before and after fixing imbalance\n",
        "class_counts_before = df['labels'].value_counts()\n",
        "class_counts_after = df_fixed['label'].value_counts()\n",
        "\n",
        "# Create subplots for before and after plots\n",
        "fig, axes = plt.subplots(1, 2, figsize=(12, 6))\n",
        "\n",
        "# Plot class distribution before fixing imbalance\n",
        "axes[0].bar(class_counts_before.index, class_counts_before.values)\n",
        "axes[0].set_xlabel('Class')\n",
        "axes[0].set_ylabel('Count')\n",
        "axes[0].set_title('Class Distribution Before Fixing Imbalance')\n",
        "\n",
        "# Plot class distribution after fixing imbalance\n",
        "axes[1].bar(class_counts_after.index, class_counts_after.values)\n",
        "axes[1].set_xlabel('Class')\n",
        "axes[1].set_ylabel('Count')\n",
        "axes[1].set_title('Class Distribution After Fixing Imbalance')\n"
      ],
      "metadata": {
        "id": "YWKPnm1B2Utr",
        "colab": {
          "base_uri": "https://localhost:8080/",
          "height": 582
        },
        "outputId": "1235344b-f18c-4e0c-ba06-a9f914c5297e"
      },
      "id": "YWKPnm1B2Utr",
      "execution_count": null,
      "outputs": [
        {
          "output_type": "execute_result",
          "data": {
            "text/plain": [
              "Text(0.5, 1.0, 'Class Distribution After Fixing Imbalance')"
            ]
          },
          "metadata": {},
          "execution_count": 20
        },
        {
          "output_type": "display_data",
          "data": {
            "text/plain": [
              "<Figure size 1200x600 with 2 Axes>"
            ],
            "image/png": "[encoded data removed]"
          },
          "metadata": {}
        }
      ]
    },
    {
      "cell_type": "markdown",
      "source": [
        "Visualizing the data"
      ],
      "metadata": {
        "id": "mUQaz3Qg6z9m"
      },
      "id": "mUQaz3Qg6z9m"
    },
    {
      "cell_type": "code",
      "source": [
        "import matplotlib.pyplot as plt\n",
        "\n",
        "# Assuming 'data' is the NumPy array containing the image data\n",
        "# Assuming 'labels' is the list containing the corresponding labels for each image\n",
        "\n",
        "# Create a figure and subplots\n",
        "fig, axes = plt.subplots(2, 3, figsize=(10, 6))\n",
        "\n",
        "# Iterate over the axes and images to plot them\n",
        "for i, ax in enumerate(axes.flat):\n",
        "    # Select an image to visualize\n",
        "    image = data[i]\n",
        "\n",
        "    # Convert the image data to float format\n",
        "    image = image.astype(float)\n",
        "\n",
        "    # Plot the image\n",
        "    ax.imshow(image)\n",
        "    ax.axis('off')  # Remove axis ticks and labels\n",
        "    ax.set_title(f\"Label: {labels[i]}\")\n",
        "\n",
        "# Adjust the spacing between subplots\n",
        "plt.tight_layout()\n",
        "\n",
        "# Display the plot\n",
        "plt.show()\n",
        "\n",
        "\n"
      ],
      "metadata": {
        "execution": {
          "iopub.status.busy": "2023-07-08T22:33:05.380595Z",
          "iopub.execute_input": "2023-07-08T22:33:05.381024Z",
          "iopub.status.idle": "2023-07-08T22:33:06.293028Z",
          "shell.execute_reply.started": "2023-07-08T22:33:05.380992Z",
          "shell.execute_reply": "2023-07-08T22:33:06.291344Z"
        },
        "trusted": true,
        "id": "lS-MwH6WtCjn",
        "colab": {
          "base_uri": "https://localhost:8080/",
          "height": 607
        },
        "outputId": "d93baeb2-139e-4c2d-f885-6ce7d045918e"
      },
      "execution_count": null,
      "outputs": [
        {
          "output_type": "display_data",
          "data": {
            "text/plain": [
              "<Figure size 1000x600 with 6 Axes>"
            ],
            "image/png": "[encoded data removed]"
          },
          "metadata": {}
        }
      ],
      "id": "lS-MwH6WtCjn"
    },
    {
      "cell_type": "code",
      "source": [
        "\n",
        "x = df_fixed.iloc[:, :-1]\n",
        "Y = df_fixed.iloc[:, -1]\n"
      ],
      "metadata": {
        "execution": {
          "iopub.status.busy": "2023-07-08T22:33:35.618750Z",
          "iopub.execute_input": "2023-07-08T22:33:35.619244Z",
          "iopub.status.idle": "2023-07-08T22:33:48.310621Z",
          "shell.execute_reply.started": "2023-07-08T22:33:35.619207Z",
          "shell.execute_reply": "2023-07-08T22:33:48.309321Z"
        },
        "trusted": true,
        "id": "ix_1gNGBtCjo"
      },
      "execution_count": null,
      "outputs": [],
      "id": "ix_1gNGBtCjo"
    },
    {
      "cell_type": "markdown",
      "source": [
        "### **PCA & classical ml classifiers ** in the balanced dataset\n"
      ],
      "metadata": {
        "id": "36KWnwNplsWC"
      },
      "id": "36KWnwNplsWC"
    },
    {
      "cell_type": "markdown",
      "source": [
        "applying pca and the split the dataset for training and testing"
      ],
      "metadata": {
        "id": "CzNBMasXUjzI"
      },
      "id": "CzNBMasXUjzI"
    },
    {
      "cell_type": "code",
      "source": [
        "from sklearn.decomposition import PCA\n",
        "from sklearn.model_selection import train_test_split\n",
        "from sklearn.svm import SVC\n",
        "\n",
        "# Step 1: Perform PCA on the data\n",
        "pca = PCA(n_components=2)  # Specify the number of components\n",
        "X_pca = pca.fit_transform(x)\n",
        "\n",
        "# Step 2: Split the data into training and test sets\n",
        "X_train, X_test, y_train, y_test = train_test_split(X_pca, Y, test_size=0.2, random_state=42)\n"
      ],
      "metadata": {
        "execution": {
          "iopub.status.busy": "2023-07-08T22:36:40.528179Z",
          "iopub.execute_input": "2023-07-08T22:36:40.528756Z",
          "iopub.status.idle": "2023-07-08T22:36:42.286158Z",
          "shell.execute_reply.started": "2023-07-08T22:36:40.528716Z",
          "shell.execute_reply": "2023-07-08T22:36:42.284583Z"
        },
        "trusted": true,
        "id": "z0R7RkCHtCjo"
      },
      "execution_count": null,
      "outputs": [],
      "id": "z0R7RkCHtCjo"
    },
    {
      "cell_type": "markdown",
      "source": [
        "tunning the hypereparameter using grid search for sVM model to find the best hyperparameter"
      ],
      "metadata": {
        "id": "diczM6xDUxhY"
      },
      "id": "diczM6xDUxhY"
    },
    {
      "cell_type": "markdown",
      "source": [
        "please try not to run this it will take lots of time."
      ],
      "metadata": {
        "id": "k93saDFoWdDd"
      },
      "id": "k93saDFoWdDd"
    },
    {
      "cell_type": "code",
      "source": [
        "$from sklearn.model_selection import GridSearchCV\n",
        "from sklearn.svm import SVC\n",
        "\n",
        "# Define the range of hyperparameters\n",
        "param_grid = {\n",
        "    'C': [0.1, 1, 10],\n",
        "    'kernel': ['linear', 'rbf'],\n",
        "    'gamma': [0.1, 1, 10]\n",
        "}\n",
        "\n",
        "# Split the data into training and validation sets\n",
        "\n",
        "# Create an SVM model\n",
        "svm = SVC()\n",
        "\n",
        "# Set up the grid search\n",
        "grid_search = GridSearchCV(estimator=svm, param_grid=param_grid, cv=5)\n",
        "\n",
        "# Fit the grid search to the training data\n",
        "grid_search.fit(X_train, y_train)\n",
        "\n",
        "# Access the best hyperparameters and corresponding model performance\n",
        "best_params = grid_search.best_params_\n",
        "best_score = grid_search.best_score_\n",
        "\n",
        "# Retrain the model using the best hyperparameters\n",
        "best_model = SVC(**best_params)\n",
        "best_model.fit(X_train, y_train)\n",
        "\n",
        "# Evaluate the model on the validation set\n",
        "accuracy = best_model.score(X_test, y_test)\n"
      ],
      "metadata": {
        "id": "wPzdUM0q3Udv"
      },
      "id": "wPzdUM0q3Udv",
      "execution_count": null,
      "outputs": []
    },
    {
      "cell_type": "code",
      "source": [
        "print(\"accuracy: \", accuracy)\n",
        "print(best_params)"
      ],
      "metadata": {
        "id": "vHZnJavIi0ws"
      },
      "id": "vHZnJavIi0ws",
      "execution_count": null,
      "outputs": []
    },
    {
      "cell_type": "markdown",
      "source": [
        "Best Parameter for SVM :C=10, gamma=10, kernel='rbf'"
      ],
      "metadata": {
        "id": "GjOrHQw_WoGt"
      },
      "id": "GjOrHQw_WoGt"
    },
    {
      "cell_type": "code",
      "source": [
        "from sklearn.neighbors import KNeighborsClassifier\n",
        "from sklearn.linear_model import LogisticRegression\n",
        "from sklearn.tree import DecisionTreeClassifier\n",
        "from sklearn.ensemble import RandomForestClassifier\n",
        "from sklearn.svm import SVC\n",
        "\n",
        "from sklearn.metrics import classification_report\n",
        "from sklearn.metrics import confusion_matrix\n",
        "\n",
        "import matplotlib.pyplot as plt\n",
        "import seaborn as sns"
      ],
      "metadata": {
        "id": "g50TcLEfkJ1x"
      },
      "id": "g50TcLEfkJ1x",
      "execution_count": null,
      "outputs": []
    },
    {
      "cell_type": "markdown",
      "source": [
        "Applying many classifier (KNeighborsClassifier ,LogisticRegression\n",
        " ,DecisionTreeClassifier\n",
        ",RandomForestClassifier\n",
        " Support vector machine)"
      ],
      "metadata": {
        "id": "THeQKoiwX0bW"
      },
      "id": "THeQKoiwX0bW"
    },
    {
      "cell_type": "code",
      "source": [
        "#making an instance of each algorithm\n",
        "knn = KNeighborsClassifier(n_neighbors=10)\n",
        "log_reg  = LogisticRegression()\n",
        "dtc  = DecisionTreeClassifier()\n",
        "rfc = RandomForestClassifier()\n",
        "svm = SVC(C=10, gamma=10, kernel='rbf')\n"
      ],
      "metadata": {
        "id": "vr1lNvCWjTXB"
      },
      "id": "vr1lNvCWjTXB",
      "execution_count": null,
      "outputs": []
    },
    {
      "cell_type": "code",
      "source": [
        "#fitting each model using X_train and y_train\n",
        "knn.fit(X_train, y_train)\n",
        "log_reg.fit(X_train, y_train)\n",
        "dtc.fit(X_train, y_train)\n",
        "rfc.fit(X_train, y_train)\n",
        "svm.fit(X_train, y_train)"
      ],
      "metadata": {
        "colab": {
          "base_uri": "https://localhost:8080/",
          "height": 74
        },
        "id": "m0GJ1n1jjdeh",
        "outputId": "866782e1-b881-4677-d02c-1331b47e3221"
      },
      "id": "m0GJ1n1jjdeh",
      "execution_count": null,
      "outputs": [
        {
          "output_type": "execute_result",
          "data": {
            "text/plain": [
              "SVC(C=10, gamma=10)"
            ],
            "text/html": [
              "<style>#sk-container-id-1 {color: black;background-color: white;}#sk-container-id-1 pre{padding: 0;}#sk-container-id-1 div.sk-toggleable {background-color: white;}#sk-container-id-1 label.sk-toggleable__label {cursor: pointer;display: block;width: 100%;margin-bottom: 0;padding: 0.3em;box-sizing: border-box;text-align: center;}#sk-container-id-1 label.sk-toggleable__label-arrow:before {content: \"▸\";float: left;margin-right: 0.25em;color: #696969;}#sk-container-id-1 label.sk-toggleable__label-arrow:hover:before {color: black;}#sk-container-id-1 div.sk-estimator:hover label.sk-toggleable__label-arrow:before {color: black;}#sk-container-id-1 div.sk-toggleable__content {max-height: 0;max-width: 0;overflow: hidden;text-align: left;background-color: #f0f8ff;}#sk-container-id-1 div.sk-toggleable__content pre {margin: 0.2em;color: black;border-radius: 0.25em;background-color: #f0f8ff;}#sk-container-id-1 input.sk-toggleable__control:checked~div.sk-toggleable__content {max-height: 200px;max-width: 100%;overflow: auto;}#sk-container-id-1 input.sk-toggleable__control:checked~label.sk-toggleable__label-arrow:before {content: \"▾\";}#sk-container-id-1 div.sk-estimator input.sk-toggleable__control:checked~label.sk-toggleable__label {background-color: #d4ebff;}#sk-container-id-1 div.sk-label input.sk-toggleable__control:checked~label.sk-toggleable__label {background-color: #d4ebff;}#sk-container-id-1 input.sk-hidden--visually {border: 0;clip: rect(1px 1px 1px 1px);clip: rect(1px, 1px, 1px, 1px);height: 1px;margin: -1px;overflow: hidden;padding: 0;position: absolute;width: 1px;}#sk-container-id-1 div.sk-estimator {font-family: monospace;background-color: #f0f8ff;border: 1px dotted black;border-radius: 0.25em;box-sizing: border-box;margin-bottom: 0.5em;}#sk-container-id-1 div.sk-estimator:hover {background-color: #d4ebff;}#sk-container-id-1 div.sk-parallel-item::after {content: \"\";width: 100%;border-bottom: 1px solid gray;flex-grow: 1;}#sk-container-id-1 div.sk-label:hover label.sk-toggleable__label {background-color: #d4ebff;}#sk-container-id-1 div.sk-serial::before {content: \"\";position: absolute;border-left: 1px solid gray;box-sizing: border-box;top: 0;bottom: 0;left: 50%;z-index: 0;}#sk-container-id-1 div.sk-serial {display: flex;flex-direction: column;align-items: center;background-color: white;padding-right: 0.2em;padding-left: 0.2em;position: relative;}#sk-container-id-1 div.sk-item {position: relative;z-index: 1;}#sk-container-id-1 div.sk-parallel {display: flex;align-items: stretch;justify-content: center;background-color: white;position: relative;}#sk-container-id-1 div.sk-item::before, #sk-container-id-1 div.sk-parallel-item::before {content: \"\";position: absolute;border-left: 1px solid gray;box-sizing: border-box;top: 0;bottom: 0;left: 50%;z-index: -1;}#sk-container-id-1 div.sk-parallel-item {display: flex;flex-direction: column;z-index: 1;position: relative;background-color: white;}#sk-container-id-1 div.sk-parallel-item:first-child::after {align-self: flex-end;width: 50%;}#sk-container-id-1 div.sk-parallel-item:last-child::after {align-self: flex-start;width: 50%;}#sk-container-id-1 div.sk-parallel-item:only-child::after {width: 0;}#sk-container-id-1 div.sk-dashed-wrapped {border: 1px dashed gray;margin: 0 0.4em 0.5em 0.4em;box-sizing: border-box;padding-bottom: 0.4em;background-color: white;}#sk-container-id-1 div.sk-label label {font-family: monospace;font-weight: bold;display: inline-block;line-height: 1.2em;}#sk-container-id-1 div.sk-label-container {text-align: center;}#sk-container-id-1 div.sk-container {/* jupyter's `normalize.less` sets `[hidden] { display: none; }` but bootstrap.min.css set `[hidden] { display: none !important; }` so we also need the `!important` here to be able to override the default hidden behavior on the sphinx rendered scikit-learn.org. See: https://github.com/scikit-learn/scikit-learn/issues/21755 */display: inline-block !important;position: relative;}#sk-container-id-1 div.sk-text-repr-fallback {display: none;}</style><div id=\"sk-container-id-1\" class=\"sk-top-container\"><div class=\"sk-text-repr-fallback\"><pre>SVC(C=10, gamma=10)</pre><b>In a Jupyter environment, please rerun this cell to show the HTML representation or trust the notebook. <br />On GitHub, the HTML representation is unable to render, please try loading this page with nbviewer.org.</b></div><div class=\"sk-container\" hidden><div class=\"sk-item\"><div class=\"sk-estimator sk-toggleable\"><input class=\"sk-toggleable__control sk-hidden--visually\" id=\"sk-estimator-id-1\" type=\"checkbox\" checked><label for=\"sk-estimator-id-1\" class=\"sk-toggleable__label sk-toggleable__label-arrow\">SVC</label><div class=\"sk-toggleable__content\"><pre>SVC(C=10, gamma=10)</pre></div></div></div></div></div>"
            ]
          },
          "metadata": {},
          "execution_count": 26
        }
      ]
    },
    {
      "cell_type": "code",
      "source": [
        "#scoring each model\n",
        "print('KNN accuracy score is: ' + str(knn.score(X_test, y_test)))\n",
        "print('Logistic Regression accuracy score is: ' + str(log_reg.score(X_test, y_test)))\n",
        "print('Decision Tree Classifier accuracy score is: ' + str(dtc.score(X_test, y_test)))\n",
        "print('Random forests Classifier accuracy score is: ' + str(rfc.score(X_test, y_test)))\n",
        "print('Support Vector Machine Classifier accuracy score is: ' + str(svm.score(X_test, y_test)))"
      ],
      "metadata": {
        "colab": {
          "base_uri": "https://localhost:8080/"
        },
        "id": "izNVYvQIjnKL",
        "outputId": "82e23cda-db23-4a30-e40d-c429ee027d5c"
      },
      "id": "izNVYvQIjnKL",
      "execution_count": null,
      "outputs": [
        {
          "output_type": "stream",
          "name": "stdout",
          "text": [
            "KNN accuracy score is: 0.7380116959064328\n",
            "Logistic Regression accuracy score is: 0.7152046783625731\n",
            "Decision Tree Classifier accuracy score is: 0.8514619883040936\n",
            "Random forests Classifier accuracy score is: 0.8573099415204678\n",
            "Support Vector Machine Classifier accuracy score is: 0.9198830409356725\n"
          ]
        }
      ]
    },
    {
      "cell_type": "markdown",
      "source": [
        "from the result above the best performance among the previous classifers is SVM which score 0.919 and the worse classifier is Logistic Regression"
      ],
      "metadata": {
        "id": "RM7jMlMyY3cH"
      },
      "id": "RM7jMlMyY3cH"
    },
    {
      "cell_type": "code",
      "source": [
        "#making predictions for each model\n",
        "knn_predcited = knn.predict(X_test)\n",
        "log_reg_predcited = log_reg.predict(X_test)\n",
        "dtc_predcited = dtc.predict(X_test)\n",
        "rfc_predcited = rfc.predict(X_test)\n",
        "svm_predcited = svm.predict(X_test)"
      ],
      "metadata": {
        "id": "AC3Yq3iJjwzV"
      },
      "id": "AC3Yq3iJjwzV",
      "execution_count": null,
      "outputs": []
    },
    {
      "cell_type": "code",
      "source": [
        "#function to plot the confusion matrix for each model\n",
        "def plot_cm(predictions, y_test, title):\n",
        "  labels = ['Normal', 'Pnuemonia']\n",
        "  cm = confusion_matrix(y_test,predictions)\n",
        "  cm = pd.DataFrame(cm , index = ['0','1'] , columns = ['0','1'])\n",
        "  plt.figure(figsize = (7,7))\n",
        "  plt.title(title)\n",
        "  sns.heatmap(cm, linecolor = 'black' , linewidth = 1 , annot = True, fmt='', xticklabels = labels, yticklabels = labels)\n",
        "  plt.show()"
      ],
      "metadata": {
        "id": "8NxHEA7plcnr"
      },
      "id": "8NxHEA7plcnr",
      "execution_count": null,
      "outputs": []
    },
    {
      "cell_type": "code",
      "source": [
        "#plot confusion matrix for each model\n",
        "\n",
        "plot_cm(knn_predcited, y_test, 'KNN Confusion Matrix')\n",
        "\n",
        "plot_cm(log_reg_predcited, y_test, 'Logistic Regression Confusion Matrix')\n",
        "\n",
        "plot_cm(dtc_predcited, y_test, 'Decision Tree Confusion Matrix')\n",
        "\n",
        "plot_cm(rfc_predcited, y_test, 'Random Forests Confusion Matrix')\n",
        "\n",
        "plot_cm(svm_predcited, y_test, 'Support Vector Machine Confusion Matrix')"
      ],
      "metadata": {
        "colab": {
          "base_uri": "https://localhost:8080/",
          "height": 1000
        },
        "id": "f4-hitP9j8LO",
        "outputId": "11716284-9a9f-4a5f-bc37-f81007eeed90"
      },
      "id": "f4-hitP9j8LO",
      "execution_count": null,
      "outputs": [
        {
          "output_type": "display_data",
          "data": {
            "text/plain": [
              "<Figure size 700x700 with 2 Axes>"
            ],
            "image/png": "[encoded data removed]"
          },
          "metadata": {}
        },
        {
          "output_type": "display_data",
          "data": {
            "text/plain": [
              "<Figure size 700x700 with 2 Axes>"
            ],
            "image/png": "[encoded data removed]"
          },
          "metadata": {}
        },
        {
          "output_type": "display_data",
          "data": {
            "text/plain": [
              "<Figure size 700x700 with 2 Axes>"
            ],
            "image/png": "[encoded data removed]"
          },
          "metadata": {}
        },
        {
          "output_type": "display_data",
          "data": {
            "text/plain": [
              "<Figure size 700x700 with 2 Axes>"
            ],
            "image/png": "[encoded data removed]"
          },
          "metadata": {}
        },
        {
          "output_type": "display_data",
          "data": {
            "text/plain": [
              "<Figure size 700x700 with 2 Axes>"
            ],
            "image/png": "[encoded data removed]"
          },
          "metadata": {}
        }
      ]
    },
    {
      "cell_type": "code",
      "source": [
        "!pip install keras-tuner\n"
      ],
      "metadata": {
        "colab": {
          "base_uri": "https://localhost:8080/"
        },
        "id": "vSSeQ2A3oFi2",
        "outputId": "5235c5e5-5389-480d-85ff-5497905bb096"
      },
      "id": "vSSeQ2A3oFi2",
      "execution_count": null,
      "outputs": [
        {
          "output_type": "stream",
          "name": "stdout",
          "text": [
            "Requirement already satisfied: keras-tuner in /usr/local/lib/python3.10/dist-packages (1.3.5)\n",
            "Requirement already satisfied: packaging in /usr/local/lib/python3.10/dist-packages (from keras-tuner) (23.1)\n",
            "Requirement already satisfied: requests in /usr/local/lib/python3.10/dist-packages (from keras-tuner) (2.27.1)\n",
            "Requirement already satisfied: kt-legacy in /usr/local/lib/python3.10/dist-packages (from keras-tuner) (1.0.5)\n",
            "Requirement already satisfied: urllib3<1.27,>=1.21.1 in /usr/local/lib/python3.10/dist-packages (from requests->keras-tuner) (1.26.16)\n",
            "Requirement already satisfied: certifi>=2017.4.17 in /usr/local/lib/python3.10/dist-packages (from requests->keras-tuner) (2023.5.7)\n",
            "Requirement already satisfied: charset-normalizer~=2.0.0 in /usr/local/lib/python3.10/dist-packages (from requests->keras-tuner) (2.0.12)\n",
            "Requirement already satisfied: idna<4,>=2.5 in /usr/local/lib/python3.10/dist-packages (from requests->keras-tuner) (3.4)\n"
          ]
        }
      ]
    },
    {
      "cell_type": "code",
      "source": [
        "import tensorflow as tf\n",
        "from tensorflow import keras\n",
        "from tensorflow.keras import layers\n",
        "from kerastuner.tuners import RandomSearch"
      ],
      "metadata": {
        "colab": {
          "base_uri": "https://localhost:8080/"
        },
        "id": "L-DY018PmK6O",
        "outputId": "e336fbeb-6209-40b3-9a3f-e6b196b6647d"
      },
      "id": "L-DY018PmK6O",
      "execution_count": null,
      "outputs": [
        {
          "output_type": "stream",
          "name": "stderr",
          "text": [
            "<ipython-input-32-faf0bbded06d>:4: DeprecationWarning: `import kerastuner` is deprecated, please use `import keras_tuner`.\n",
            "  from kerastuner.tuners import RandomSearch\n"
          ]
        }
      ]
    },
    {
      "cell_type": "markdown",
      "source": [
        "X_train and y_train: Training data and labels (64% of the original data)\n",
        "\n",
        "X_val and y_val: Validation data and labels (16% of the original data)\n",
        "\n",
        "X_test and y_test: Test data and labels (20% of the original data"
      ],
      "metadata": {
        "id": "JmlFH-Yhq8rK"
      },
      "id": "JmlFH-Yhq8rK"
    },
    {
      "cell_type": "code",
      "source": [
        "from sklearn.model_selection import train_test_split\n",
        "\n",
        "# Split the data into training and test sets\n",
        "X_train, X_test, y_train, y_test = train_test_split(X, y, test_size=0.2, random_state=42)\n",
        "\n",
        "# Split the training data further into training and validation sets\n",
        "X_train, X_val, y_train, y_val = train_test_split(X_train, y_train, test_size=0.2, random_state=42)\n"
      ],
      "metadata": {
        "id": "XUxVd7SAnzuh"
      },
      "id": "XUxVd7SAnzuh",
      "execution_count": null,
      "outputs": []
    },
    {
      "cell_type": "markdown",
      "source": [
        "## **Imbalanced dataset **"
      ],
      "metadata": {
        "id": "f31U03ej6Cel"
      },
      "id": "f31U03ej6Cel"
    },
    {
      "cell_type": "code",
      "source": [
        "X_train.shape"
      ],
      "metadata": {
        "colab": {
          "base_uri": "https://localhost:8080/"
        },
        "id": "JFkMgwlCu5GV",
        "outputId": "f3fe6e2f-a286-4a21-d865-7e79f1cb8153"
      },
      "id": "JFkMgwlCu5GV",
      "execution_count": null,
      "outputs": [
        {
          "output_type": "execute_result",
          "data": {
            "text/plain": [
              "(3748, 3072)"
            ]
          },
          "metadata": {},
          "execution_count": 34
        }
      ]
    },
    {
      "cell_type": "code",
      "source": [
        "# Normalize the data\n",
        "x_train = np.array(X_train) / 255\n",
        "x_val = np.array(X_val) / 255\n",
        "x_test = np.array(X_test) / 255"
      ],
      "metadata": {
        "id": "4qfbNUmVt_rz"
      },
      "id": "4qfbNUmVt_rz",
      "execution_count": null,
      "outputs": []
    },
    {
      "cell_type": "code",
      "source": [
        "x_train.shape"
      ],
      "metadata": {
        "colab": {
          "base_uri": "https://localhost:8080/"
        },
        "id": "Sa9wWqovuyDO",
        "outputId": "d225d674-6c68-4952-f004-bc6aea637a47"
      },
      "id": "Sa9wWqovuyDO",
      "execution_count": null,
      "outputs": [
        {
          "output_type": "execute_result",
          "data": {
            "text/plain": [
              "(3748, 3072)"
            ]
          },
          "metadata": {},
          "execution_count": 36
        }
      ]
    },
    {
      "cell_type": "code",
      "source": [
        "# resize data for deep learning\n",
        "img_size=32\n",
        "x_train = x_train.reshape(-1, img_size, img_size, 3)\n",
        "y_train = np.array(y_train)\n",
        "\n",
        "x_val = x_val.reshape(-1, img_size, img_size, 3)\n",
        "y_val = np.array(y_val)\n",
        "\n",
        "x_test = x_test.reshape(-1, img_size, img_size, 3)\n",
        "y_test = np.array(y_test)"
      ],
      "metadata": {
        "id": "KM8r_dssuFdr"
      },
      "id": "KM8r_dssuFdr",
      "execution_count": null,
      "outputs": []
    },
    {
      "cell_type": "code",
      "source": [
        "y_train.shape"
      ],
      "metadata": {
        "colab": {
          "base_uri": "https://localhost:8080/"
        },
        "id": "rKq4BegyupQ6",
        "outputId": "8620b67d-6826-410b-f141-3c1098ee603a"
      },
      "id": "rKq4BegyupQ6",
      "execution_count": null,
      "outputs": [
        {
          "output_type": "execute_result",
          "data": {
            "text/plain": [
              "(3748,)"
            ]
          },
          "metadata": {},
          "execution_count": 38
        }
      ]
    },
    {
      "cell_type": "code",
      "source": [
        "y_train.shape"
      ],
      "metadata": {
        "colab": {
          "base_uri": "https://localhost:8080/"
        },
        "id": "F03-_iKkGmyj",
        "outputId": "51fb91d3-f625-445c-b74f-336182630c10"
      },
      "id": "F03-_iKkGmyj",
      "execution_count": null,
      "outputs": [
        {
          "output_type": "execute_result",
          "data": {
            "text/plain": [
              "(3748,)"
            ]
          },
          "metadata": {},
          "execution_count": 39
        }
      ]
    },
    {
      "cell_type": "markdown",
      "source": [
        "# **Using classical machine learning without pca **\n"
      ],
      "metadata": {
        "id": "Kkay5wv_EajX"
      },
      "id": "Kkay5wv_EajX"
    },
    {
      "cell_type": "code",
      "source": [
        "knn.fit(X_train, y_train)\n",
        "log_reg.fit(X_train, y_train)\n",
        "dtc.fit(X_train, y_train)\n",
        "rfc.fit(X_train, y_train)\n",
        "svm.fit(X_train, y_train)"
      ],
      "metadata": {
        "colab": {
          "base_uri": "https://localhost:8080/",
          "height": 216
        },
        "id": "mT7miiwPEX7t",
        "outputId": "0422f388-90d2-4dba-d813-f64b4b6440b3"
      },
      "id": "mT7miiwPEX7t",
      "execution_count": null,
      "outputs": [
        {
          "output_type": "stream",
          "name": "stderr",
          "text": [
            "/usr/local/lib/python3.10/dist-packages/sklearn/linear_model/_logistic.py:458: ConvergenceWarning: lbfgs failed to converge (status=1):\n",
            "STOP: TOTAL NO. of ITERATIONS REACHED LIMIT.\n",
            "\n",
            "Increase the number of iterations (max_iter) or scale the data as shown in:\n",
            "    https://scikit-learn.org/stable/modules/preprocessing.html\n",
            "Please also refer to the documentation for alternative solver options:\n",
            "    https://scikit-learn.org/stable/modules/linear_model.html#logistic-regression\n",
            "  n_iter_i = _check_optimize_result(\n"
          ]
        },
        {
          "output_type": "execute_result",
          "data": {
            "text/plain": [
              "SVC(C=10, gamma=10)"
            ],
            "text/html": [
              "<style>#sk-container-id-2 {color: black;background-color: white;}#sk-container-id-2 pre{padding: 0;}#sk-container-id-2 div.sk-toggleable {background-color: white;}#sk-container-id-2 label.sk-toggleable__label {cursor: pointer;display: block;width: 100%;margin-bottom: 0;padding: 0.3em;box-sizing: border-box;text-align: center;}#sk-container-id-2 label.sk-toggleable__label-arrow:before {content: \"▸\";float: left;margin-right: 0.25em;color: #696969;}#sk-container-id-2 label.sk-toggleable__label-arrow:hover:before {color: black;}#sk-container-id-2 div.sk-estimator:hover label.sk-toggleable__label-arrow:before {color: black;}#sk-container-id-2 div.sk-toggleable__content {max-height: 0;max-width: 0;overflow: hidden;text-align: left;background-color: #f0f8ff;}#sk-container-id-2 div.sk-toggleable__content pre {margin: 0.2em;color: black;border-radius: 0.25em;background-color: #f0f8ff;}#sk-container-id-2 input.sk-toggleable__control:checked~div.sk-toggleable__content {max-height: 200px;max-width: 100%;overflow: auto;}#sk-container-id-2 input.sk-toggleable__control:checked~label.sk-toggleable__label-arrow:before {content: \"▾\";}#sk-container-id-2 div.sk-estimator input.sk-toggleable__control:checked~label.sk-toggleable__label {background-color: #d4ebff;}#sk-container-id-2 div.sk-label input.sk-toggleable__control:checked~label.sk-toggleable__label {background-color: #d4ebff;}#sk-container-id-2 input.sk-hidden--visually {border: 0;clip: rect(1px 1px 1px 1px);clip: rect(1px, 1px, 1px, 1px);height: 1px;margin: -1px;overflow: hidden;padding: 0;position: absolute;width: 1px;}#sk-container-id-2 div.sk-estimator {font-family: monospace;background-color: #f0f8ff;border: 1px dotted black;border-radius: 0.25em;box-sizing: border-box;margin-bottom: 0.5em;}#sk-container-id-2 div.sk-estimator:hover {background-color: #d4ebff;}#sk-container-id-2 div.sk-parallel-item::after {content: \"\";width: 100%;border-bottom: 1px solid gray;flex-grow: 1;}#sk-container-id-2 div.sk-label:hover label.sk-toggleable__label {background-color: #d4ebff;}#sk-container-id-2 div.sk-serial::before {content: \"\";position: absolute;border-left: 1px solid gray;box-sizing: border-box;top: 0;bottom: 0;left: 50%;z-index: 0;}#sk-container-id-2 div.sk-serial {display: flex;flex-direction: column;align-items: center;background-color: white;padding-right: 0.2em;padding-left: 0.2em;position: relative;}#sk-container-id-2 div.sk-item {position: relative;z-index: 1;}#sk-container-id-2 div.sk-parallel {display: flex;align-items: stretch;justify-content: center;background-color: white;position: relative;}#sk-container-id-2 div.sk-item::before, #sk-container-id-2 div.sk-parallel-item::before {content: \"\";position: absolute;border-left: 1px solid gray;box-sizing: border-box;top: 0;bottom: 0;left: 50%;z-index: -1;}#sk-container-id-2 div.sk-parallel-item {display: flex;flex-direction: column;z-index: 1;position: relative;background-color: white;}#sk-container-id-2 div.sk-parallel-item:first-child::after {align-self: flex-end;width: 50%;}#sk-container-id-2 div.sk-parallel-item:last-child::after {align-self: flex-start;width: 50%;}#sk-container-id-2 div.sk-parallel-item:only-child::after {width: 0;}#sk-container-id-2 div.sk-dashed-wrapped {border: 1px dashed gray;margin: 0 0.4em 0.5em 0.4em;box-sizing: border-box;padding-bottom: 0.4em;background-color: white;}#sk-container-id-2 div.sk-label label {font-family: monospace;font-weight: bold;display: inline-block;line-height: 1.2em;}#sk-container-id-2 div.sk-label-container {text-align: center;}#sk-container-id-2 div.sk-container {/* jupyter's `normalize.less` sets `[hidden] { display: none; }` but bootstrap.min.css set `[hidden] { display: none !important; }` so we also need the `!important` here to be able to override the default hidden behavior on the sphinx rendered scikit-learn.org. See: https://github.com/scikit-learn/scikit-learn/issues/21755 */display: inline-block !important;position: relative;}#sk-container-id-2 div.sk-text-repr-fallback {display: none;}</style><div id=\"sk-container-id-2\" class=\"sk-top-container\"><div class=\"sk-text-repr-fallback\"><pre>SVC(C=10, gamma=10)</pre><b>In a Jupyter environment, please rerun this cell to show the HTML representation or trust the notebook. <br />On GitHub, the HTML representation is unable to render, please try loading this page with nbviewer.org.</b></div><div class=\"sk-container\" hidden><div class=\"sk-item\"><div class=\"sk-estimator sk-toggleable\"><input class=\"sk-toggleable__control sk-hidden--visually\" id=\"sk-estimator-id-2\" type=\"checkbox\" checked><label for=\"sk-estimator-id-2\" class=\"sk-toggleable__label sk-toggleable__label-arrow\">SVC</label><div class=\"sk-toggleable__content\"><pre>SVC(C=10, gamma=10)</pre></div></div></div></div></div>"
            ]
          },
          "metadata": {},
          "execution_count": 40
        }
      ]
    },
    {
      "cell_type": "code",
      "source": [
        "#scoring each model\n",
        "print('KNN accuracy score is: ' + str(knn.score(X_test, y_test)))\n",
        "print('Logistic Regression accuracy score is: ' + str(log_reg.score(X_test, y_test)))\n",
        "print('Decision Tree Classifier accuracy score is: ' + str(dtc.score(X_test, y_test)))\n",
        "print('Random forests Classifier accuracy score is: ' + str(rfc.score(X_test, y_test)))\n",
        "print('Support Vector Machine Classifier accuracy score is: ' + str(svm.score(X_test, y_test)))"
      ],
      "metadata": {
        "colab": {
          "base_uri": "https://localhost:8080/"
        },
        "id": "loaIPO5PE7fp",
        "outputId": "8768d915-69c5-48c1-fae7-ef1a03aeb580"
      },
      "id": "loaIPO5PE7fp",
      "execution_count": null,
      "outputs": [
        {
          "output_type": "stream",
          "name": "stdout",
          "text": [
            "KNN accuracy score is: 0.9163822525597269\n",
            "Logistic Regression accuracy score is: 0.9172354948805461\n",
            "Decision Tree Classifier accuracy score is: 0.85580204778157\n",
            "Random forests Classifier accuracy score is: 0.9428327645051194\n",
            "Support Vector Machine Classifier accuracy score is: 0.7534129692832765\n"
          ]
        }
      ]
    },
    {
      "cell_type": "markdown",
      "source": [
        "based in the previous result it shows that Random forest outperformes the other classifier but we can't rely on the accuracy scores to evaluate the performannce of the classifiers since the dataset is imbalanced so we check the other matrices (MCC , prescicon)"
      ],
      "metadata": {
        "id": "fattQzI9aNuj"
      },
      "id": "fattQzI9aNuj"
    },
    {
      "cell_type": "code",
      "source": [
        "knn_predcited = knn.predict(X_test)\n",
        "log_reg_predcited = log_reg.predict(X_test)\n",
        "dtc_predcited = dtc.predict(X_test)\n",
        "rfc_predcited = rfc.predict(X_test)\n",
        "svm_predcited = svm.predict(X_test)"
      ],
      "metadata": {
        "id": "YY4-mhNcE7iC"
      },
      "id": "YY4-mhNcE7iC",
      "execution_count": null,
      "outputs": []
    },
    {
      "cell_type": "code",
      "source": [
        "from sklearn.metrics import matthews_corrcoef\n",
        "print (\"SVM scores: \")\n",
        "mcc_svm = matthews_corrcoef(svm_predcited, y_test)\n",
        "f1_svm = f1_score(svm_predcited, y_test)\n",
        "precision_svm = precision_score(svm_predcited, y_test)\n",
        "\n",
        "print(f\"MCC: {mcc_svm}\")\n",
        "print(f\"F1 score: {f1_svm}\")\n",
        "print(\"Precision:\", precision_svm)\n"
      ],
      "metadata": {
        "colab": {
          "base_uri": "https://localhost:8080/"
        },
        "id": "rJIS_PV1MOH0",
        "outputId": "4e4d22a6-f1ff-4568-bf45-2d50e21e688b"
      },
      "id": "rJIS_PV1MOH0",
      "execution_count": null,
      "outputs": [
        {
          "output_type": "stream",
          "name": "stdout",
          "text": [
            "SVM scores: \n",
            "MCC: 0.05096321834958275\n",
            "F1 score: 0.859230394544569\n",
            "Precision: 1.0\n"
          ]
        }
      ]
    },
    {
      "cell_type": "code",
      "source": [
        "print (\"KNN scores: \")\n",
        "mcc_knn = matthews_corrcoef(knn_predcited, y_test)\n",
        "f1_knn = f1_score(knn_predcited, y_test)\n",
        "precision_knn = precision_score(knn_predcited, y_test)\n",
        "\n",
        "print(f\"MCC: {mcc_knn}\")\n",
        "print(f\"F1 score: {f1_knn}\")\n",
        "print(\"Precision:\", precision_knn)\n"
      ],
      "metadata": {
        "colab": {
          "base_uri": "https://localhost:8080/"
        },
        "id": "tWMQXiQ8E7kX",
        "outputId": "b39f6d56-acb8-443b-e5c9-338331c98b7a"
      },
      "id": "tWMQXiQ8E7kX",
      "execution_count": null,
      "outputs": [
        {
          "output_type": "stream",
          "name": "stdout",
          "text": [
            "KNN scores: \n",
            "MCC: 0.7676012534620253\n",
            "F1 score: 0.9466230936819173\n",
            "Precision: 0.9852607709750567\n"
          ]
        }
      ]
    },
    {
      "cell_type": "code",
      "source": [
        "print (\"logistic regression scores: \")\n",
        "mcc_log = matthews_corrcoef(log_reg_predcited, y_test)\n",
        "f1_log = f1_score(log_reg_predcited, y_test)\n",
        "precision_log = precision_score(log_reg_predcited, y_test)\n",
        "\n",
        "print(f\"MCC: {mcc_log}\")\n",
        "print(f\"F1 score: {f1_log}\")\n",
        "print(\"Precision:\", precision_log)"
      ],
      "metadata": {
        "colab": {
          "base_uri": "https://localhost:8080/"
        },
        "id": "5rbIGXhuE7nD",
        "outputId": "3eb01c2c-7885-41eb-a6a5-d2bffe1c0f9d"
      },
      "id": "5rbIGXhuE7nD",
      "execution_count": null,
      "outputs": [
        {
          "output_type": "stream",
          "name": "stdout",
          "text": [
            "logistic regression scores: \n",
            "MCC: 0.7760564761985016\n",
            "F1 score: 0.9452286843591192\n",
            "Precision: 0.9489795918367347\n"
          ]
        }
      ]
    },
    {
      "cell_type": "code",
      "source": [
        "print (\"descion tree scores: \")\n",
        "mcc_dtc = matthews_corrcoef(dtc_predcited, y_test)\n",
        "f1_dtc = f1_score(dtc_predcited, y_test)\n",
        "precision_dtc = precision_score(dtc_predcited, y_test)\n",
        "\n",
        "print(f\"MCC: {mcc_dtc}\")\n",
        "print(f\"F1 score: {f1_dtc}\")\n",
        "print(\"Precision:\", precision_dtc)"
      ],
      "metadata": {
        "colab": {
          "base_uri": "https://localhost:8080/"
        },
        "id": "wdqjwScEE7qc",
        "outputId": "5041b106-0332-41ad-cccb-07d30a979611"
      },
      "id": "wdqjwScEE7qc",
      "execution_count": null,
      "outputs": [
        {
          "output_type": "stream",
          "name": "stdout",
          "text": [
            "descion tree scores: \n",
            "MCC: 0.6150830410997605\n",
            "F1 score: 0.9039226833428085\n",
            "Precision: 0.9013605442176871\n"
          ]
        }
      ]
    },
    {
      "cell_type": "code",
      "source": [
        "print (\"RFC scores: \")\n",
        "mcc_rcf = matthews_corrcoef(rfc_predcited, y_test)\n",
        "f1_rcf = f1_score(rfc_predcited, y_test)\n",
        "precision_rcf = precision_score(rfc_predcited, y_test)\n",
        "\n",
        "print(f\"MCC: {mcc_rcf}\")\n",
        "print(f\"F1 score: {f1_rcf}\")\n",
        "print(\"Precision:\", precision_rcf)"
      ],
      "metadata": {
        "colab": {
          "base_uri": "https://localhost:8080/"
        },
        "id": "C_UYcG9YLIht",
        "outputId": "0f44a45e-eca0-46a5-9adb-a3daf34d74ad"
      },
      "id": "C_UYcG9YLIht",
      "execution_count": null,
      "outputs": [
        {
          "output_type": "stream",
          "name": "stdout",
          "text": [
            "RFC scores: \n",
            "MCC: 0.8432708833916157\n",
            "F1 score: 0.9625907314349526\n",
            "Precision: 0.9773242630385488\n"
          ]
        }
      ]
    },
    {
      "cell_type": "markdown",
      "source": [
        "based on the mcc score the best classifier is random forest classifier"
      ],
      "metadata": {
        "id": "2mGV048Hb7vx"
      },
      "id": "2mGV048Hb7vx"
    },
    {
      "cell_type": "markdown",
      "source": [
        "## **NEURAL NETWORK USING CNN**"
      ],
      "metadata": {
        "id": "QqyHUynZl6du"
      },
      "id": "QqyHUynZl6du"
    },
    {
      "cell_type": "code",
      "source": [
        "from tensorflow.keras.utils import to_categorical\n",
        "\n",
        "y_train = to_categorical(y_train)\n",
        "y_val = to_categorical(y_val)\n",
        "y_test = to_categorical(y_test)"
      ],
      "metadata": {
        "id": "xZaSLsV53Ey1"
      },
      "id": "xZaSLsV53Ey1",
      "execution_count": null,
      "outputs": []
    },
    {
      "cell_type": "code",
      "source": [
        "image_width=32\n",
        "image_height=32\n",
        "channels=3\n",
        "num_classes=2"
      ],
      "metadata": {
        "id": "gxLzf78Vc1k4"
      },
      "id": "gxLzf78Vc1k4",
      "execution_count": null,
      "outputs": []
    },
    {
      "cell_type": "code",
      "source": [
        "import tensorflow as tf\n",
        "from tensorflow import keras\n",
        "from tensorflow.keras import layers\n",
        "from kerastuner import RandomSearch\n",
        "\n",
        "import tensorflow as tf\n",
        "from tensorflow import keras\n",
        "from tensorflow.keras import layers\n",
        "from kerastuner.tuners import RandomSearch\n",
        "\n",
        "# Define the CNN architecture\n",
        "def build_model(hp):\n",
        "    model = keras.Sequential()\n",
        "    model.add(layers.Conv2D(hp.Int('conv1_filters', min_value=32, max_value=128, step=32),\n",
        "                            kernel_size=hp.Choice('conv1_kernel', values=[3, 5]),\n",
        "                            activation='relu',\n",
        "                            input_shape=(image_width, image_height, channels)))\n",
        "    model.add(layers.MaxPooling2D(pool_size=(2, 2)))\n",
        "    model.add(layers.Dropout(hp.Float('dropout_1', min_value=0.0, max_value=0.5, step=0.1)))\n",
        "    model.add(layers.Flatten())\n",
        "    model.add(layers.Dense(hp.Int('dense_units', min_value=32, max_value=256, step=32), activation='relu'))\n",
        "    model.add(layers.Dropout(hp.Float('dropout_2', min_value=0.0, max_value=0.5, step=0.1)))\n",
        "    model.add(layers.Dense(num_classes, activation='softmax'))\n",
        "\n",
        "    # Compile the model\n",
        "    model.compile(optimizer=keras.optimizers.Adam(hp.Choice('learning_rate', values=[1e-2, 1e-3, 1e-4])),\n",
        "                  loss='categorical_crossentropy',\n",
        "                  metrics=['accuracy'])\n",
        "\n",
        "    return model\n",
        "\n",
        "# Instantiate the tuner\n",
        "tuner = RandomSearch(\n",
        "    build_model,\n",
        "    objective='val_accuracy',\n",
        "    max_trials=10,\n",
        "    executions_per_trial=1,\n",
        "    directory='tuner_results',\n",
        "    project_name='cnn_hyperparameter_search'\n",
        ")\n",
        "\n",
        "# Perform the hyperparameter search\n",
        "tuner.search(x_train, y_train, epochs=10, validation_data=(x_val, y_val))\n",
        "\n",
        "# Get the best model and summary of hyperparameters\n",
        "best_model = tuner.get_best_models(num_models=1)[0]\n",
        "best_hyperparameters = tuner.get_best_hyperparameters()[0]\n",
        "best_model.summary()\n",
        "print(best_hyperparameters.values)\n"
      ],
      "metadata": {
        "colab": {
          "base_uri": "https://localhost:8080/"
        },
        "id": "SBLYwIz3nIXu",
        "outputId": "d7d3cf15-98c5-410d-9c3b-3d44c824c6c5"
      },
      "id": "SBLYwIz3nIXu",
      "execution_count": null,
      "outputs": [
        {
          "output_type": "stream",
          "name": "stdout",
          "text": [
            "Model: \"sequential\"\n",
            "_________________________________________________________________\n",
            " Layer (type)                Output Shape              Param #   \n",
            "=================================================================\n",
            " conv2d (Conv2D)             (None, 28, 28, 64)        4864      \n",
            "                                                                 \n",
            " max_pooling2d (MaxPooling2D  (None, 14, 14, 64)       0         \n",
            " )                                                               \n",
            "                                                                 \n",
            " dropout (Dropout)           (None, 14, 14, 64)        0         \n",
            "                                                                 \n",
            " flatten (Flatten)           (None, 12544)             0         \n",
            "                                                                 \n",
            " dense (Dense)               (None, 160)               2007200   \n",
            "                                                                 \n",
            " dropout_1 (Dropout)         (None, 160)               0         \n",
            "                                                                 \n",
            " dense_1 (Dense)             (None, 2)                 322       \n",
            "                                                                 \n",
            "=================================================================\n",
            "Total params: 2,012,386\n",
            "Trainable params: 2,012,386\n",
            "Non-trainable params: 0\n",
            "_________________________________________________________________\n",
            "{'conv1_filters': 64, 'conv1_kernel': 5, 'dropout_1': 0.4, 'dense_units': 160, 'dropout_2': 0.0, 'learning_rate': 0.01}\n"
          ]
        }
      ]
    },
    {
      "cell_type": "code",
      "source": [
        "best_model = build_model(best_hyperparameters)\n",
        "best_model.compile(optimizer=keras.optimizers.Adam(best_hyperparameters['learning_rate']),\n",
        "                   loss='categorical_crossentropy',\n",
        "                   metrics=['accuracy'])\n",
        "best_model.fit(x_train, y_train, epochs=10, validation_data=(x_val, y_val))\n",
        "test_loss, test_accuracy = best_model.evaluate(x_test, y_test)\n",
        "print(f\"Test Loss: {test_loss}, Test Accuracy: {test_accuracy}\")\n",
        "\n"
      ],
      "metadata": {
        "colab": {
          "base_uri": "https://localhost:8080/"
        },
        "id": "qMqUN44286O5",
        "outputId": "8e3f27b6-bb8e-47a4-a774-559b5e496314"
      },
      "id": "qMqUN44286O5",
      "execution_count": null,
      "outputs": [
        {
          "output_type": "stream",
          "name": "stderr",
          "text": [
            "WARNING:tensorflow:Detecting that an object or model or tf.train.Checkpoint is being deleted with unrestored values. See the following logs for the specific values in question. To silence these warnings, use `status.expect_partial()`. See https://www.tensorflow.org/api_docs/python/tf/train/Checkpoint#restorefor details about the status object returned by the restore function.\n",
            "WARNING:tensorflow:Value in checkpoint could not be found in the restored object: (root).optimizer._variables.1\n",
            "WARNING:tensorflow:Value in checkpoint could not be found in the restored object: (root).optimizer._variables.2\n",
            "WARNING:tensorflow:Value in checkpoint could not be found in the restored object: (root).optimizer._variables.3\n",
            "WARNING:tensorflow:Value in checkpoint could not be found in the restored object: (root).optimizer._variables.4\n",
            "WARNING:tensorflow:Value in checkpoint could not be found in the restored object: (root).optimizer._variables.5\n",
            "WARNING:tensorflow:Value in checkpoint could not be found in the restored object: (root).optimizer._variables.6\n",
            "WARNING:tensorflow:Value in checkpoint could not be found in the restored object: (root).optimizer._variables.7\n",
            "WARNING:tensorflow:Value in checkpoint could not be found in the restored object: (root).optimizer._variables.8\n",
            "WARNING:tensorflow:Value in checkpoint could not be found in the restored object: (root).optimizer._variables.9\n",
            "WARNING:tensorflow:Value in checkpoint could not be found in the restored object: (root).optimizer._variables.10\n",
            "WARNING:tensorflow:Value in checkpoint could not be found in the restored object: (root).optimizer._variables.11\n",
            "WARNING:tensorflow:Value in checkpoint could not be found in the restored object: (root).optimizer._variables.12\n"
          ]
        },
        {
          "output_type": "stream",
          "name": "stdout",
          "text": [
            "Epoch 1/10\n",
            "118/118 [==============================] - 12s 95ms/step - loss: 0.3885 - accuracy: 0.8404 - val_loss: 0.2200 - val_accuracy: 0.9072\n",
            "Epoch 2/10\n",
            "118/118 [==============================] - 11s 91ms/step - loss: 0.2338 - accuracy: 0.9058 - val_loss: 0.2196 - val_accuracy: 0.9221\n",
            "Epoch 3/10\n",
            "118/118 [==============================] - 9s 73ms/step - loss: 0.2047 - accuracy: 0.9194 - val_loss: 0.1747 - val_accuracy: 0.9317\n",
            "Epoch 4/10\n",
            "118/118 [==============================] - 15s 126ms/step - loss: 0.1948 - accuracy: 0.9250 - val_loss: 0.1787 - val_accuracy: 0.9392\n",
            "Epoch 5/10\n",
            "118/118 [==============================] - 11s 91ms/step - loss: 0.1834 - accuracy: 0.9317 - val_loss: 0.1759 - val_accuracy: 0.9328\n",
            "Epoch 6/10\n",
            "118/118 [==============================] - 11s 91ms/step - loss: 0.1742 - accuracy: 0.9336 - val_loss: 0.1660 - val_accuracy: 0.9413\n",
            "Epoch 7/10\n",
            "118/118 [==============================] - 8s 71ms/step - loss: 0.1757 - accuracy: 0.9317 - val_loss: 0.1458 - val_accuracy: 0.9434\n",
            "Epoch 8/10\n",
            "118/118 [==============================] - 11s 90ms/step - loss: 0.1584 - accuracy: 0.9389 - val_loss: 0.1372 - val_accuracy: 0.9445\n",
            "Epoch 9/10\n",
            "118/118 [==============================] - 10s 88ms/step - loss: 0.1448 - accuracy: 0.9429 - val_loss: 0.1508 - val_accuracy: 0.9402\n",
            "Epoch 10/10\n",
            "118/118 [==============================] - 9s 72ms/step - loss: 0.1503 - accuracy: 0.9405 - val_loss: 0.1316 - val_accuracy: 0.9466\n",
            "37/37 [==============================] - 1s 15ms/step - loss: 0.1405 - accuracy: 0.9462\n",
            "Test Loss: 0.14054711163043976, Test Accuracy: 0.9462457299232483\n"
          ]
        }
      ]
    },
    {
      "cell_type": "code",
      "source": [
        "from sklearn.metrics import matthews_corrcoef, f1_score , precision_score\n",
        "\n",
        "# ...\n",
        "\n",
        "# After training your model and making predictions\n",
        "y_pred = best_model.predict(x_test)\n",
        "y_pred_classes = np.argmax(y_pred, axis=1)\n",
        "y_test_classes = np.argmax(y_test, axis=1)\n",
        "\n",
        "mcc = matthews_corrcoef(y_test_classes, y_pred_classes)\n",
        "f1 = f1_score(y_test_classes, y_pred_classes)\n",
        "precision = precision_score(y_test_classes, y_pred_classes)\n",
        "\n",
        "print(f\"MCC: {mcc}\")\n",
        "print(f\"F1 score: {f1}\")\n",
        "print(\"Precision:\", precision)\n"
      ],
      "metadata": {
        "colab": {
          "base_uri": "https://localhost:8080/"
        },
        "id": "BtJSHgHw-vSW",
        "outputId": "5516b83c-a655-42fa-a301-86ccd40f8e19"
      },
      "id": "BtJSHgHw-vSW",
      "execution_count": null,
      "outputs": [
        {
          "output_type": "stream",
          "name": "stdout",
          "text": [
            "37/37 [==============================] - 1s 16ms/step\n",
            "MCC: 0.8532656609049755\n",
            "F1 score: 0.9646662927650028\n",
            "Precision: 0.9544950055493896\n"
          ]
        }
      ]
    },
    {
      "cell_type": "code",
      "source": [
        "plot_cm(y_test_classes, y_pred_classes,'CNN Confusion Matrix')"
      ],
      "metadata": {
        "colab": {
          "base_uri": "https://localhost:8080/",
          "height": 622
        },
        "id": "ElvUnICTAxRq",
        "outputId": "f0fd58c3-8b3f-4315-c34f-34b8448528eb"
      },
      "id": "ElvUnICTAxRq",
      "execution_count": null,
      "outputs": [
        {
          "output_type": "display_data",
          "data": {
            "text/plain": [
              "<Figure size 700x700 with 2 Axes>"
            ],
            "image/png": "[encoded data removed]"
          },
          "metadata": {}
        }
      ]
    },
    {
      "cell_type": "code",
      "source": [],
      "metadata": {
        "id": "XnlXyi0ZdTrT"
      },
      "id": "XnlXyi0ZdTrT",
      "execution_count": null,
      "outputs": []
    }
  ]
}